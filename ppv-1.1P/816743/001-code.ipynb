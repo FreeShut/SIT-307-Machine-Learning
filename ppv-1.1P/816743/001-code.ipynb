{
 "cells": [
  {
   "cell_type": "code",
   "execution_count": 2,
   "id": "5e56919f",
   "metadata": {},
   "outputs": [
    {
     "ename": "SyntaxError",
     "evalue": "invalid syntax (<ipython-input-2-60f4e8026fb4>, line 1)",
     "output_type": "error",
     "traceback": [
      "\u001b[1;36m  File \u001b[1;32m\"<ipython-input-2-60f4e8026fb4>\"\u001b[1;36m, line \u001b[1;32m1\u001b[0m\n\u001b[1;33m    1. Define a string variable with_ your name. Print characters of odd and_ even position of your name.\u001b[0m\n\u001b[1;37m       ^\u001b[0m\n\u001b[1;31mSyntaxError\u001b[0m\u001b[1;31m:\u001b[0m invalid syntax\n"
     ]
    }
   ],
   "source": [
    " 1. Define a string variable with_ your name. Print characters of odd and_ even position of your name.\n"
   ]
  },
  {
   "cell_type": "code",
   "execution_count": 3,
   "id": "503eea9b",
   "metadata": {},
   "outputs": [],
   "source": [
    "name = \"JackGuan\""
   ]
  },
  {
   "cell_type": "code",
   "execution_count": 4,
   "id": "c0788958",
   "metadata": {},
   "outputs": [
    {
     "name": "stdout",
     "output_type": "stream",
     "text": [
      "---------------\n",
      "JcGa\n",
      "---------------\n",
      "akun\n"
     ]
    }
   ],
   "source": [
    "print(\"---------------\")\n",
    "print(name[0::2])\n",
    "print(\"---------------\")\n",
    "print(name[1::2])"
   ]
  },
  {
   "cell_type": "code",
   "execution_count": 5,
   "id": "f09d0a39",
   "metadata": {
    "scrolled": true
   },
   "outputs": [
    {
     "name": "stdout",
     "output_type": "stream",
     "text": [
      "J\n",
      "c\n",
      "G\n",
      "a\n",
      "a\n",
      "k\n",
      "u\n",
      "n\n"
     ]
    }
   ],
   "source": [
    "for x in range(len(name)):\n",
    "    if x % 2 == 0:\n",
    "        print(name[x])\n",
    "\n",
    "for y in range(len(name)):\n",
    "    if y % 2 != 0:\n",
    "        print(name[y])\n",
    "    "
   ]
  },
  {
   "cell_type": "code",
   "execution_count": 11,
   "id": "9a790bb7",
   "metadata": {},
   "outputs": [
    {
     "ename": "SyntaxError",
     "evalue": "invalid syntax (<ipython-input-11-f24c325046e6>, line 1)",
     "output_type": "error",
     "traceback": [
      "\u001b[1;36m  File \u001b[1;32m\"<ipython-input-11-f24c325046e6>\"\u001b[1;36m, line \u001b[1;32m1\u001b[0m\n\u001b[1;33m    2.Create three variables named 'Student name', 'Course name', and 'EmailAddress'. Add 5 random values in these variables, where added values are not replaceable, and print them.\u001b[0m\n\u001b[1;37m      ^\u001b[0m\n\u001b[1;31mSyntaxError\u001b[0m\u001b[1;31m:\u001b[0m invalid syntax\n"
     ]
    }
   ],
   "source": [
    "2.Create three variables named 'Student name', 'Course name', and 'EmailAddress'. Add 5 random values in these variables, where added values are not replaceable, and print them."
   ]
  },
  {
   "cell_type": "code",
   "execution_count": 7,
   "id": "c219828d",
   "metadata": {},
   "outputs": [],
   "source": [
    "import random"
   ]
  },
  {
   "cell_type": "code",
   "execution_count": 31,
   "id": "2ad9ba9c",
   "metadata": {},
   "outputs": [
    {
     "name": "stdout",
     "output_type": "stream",
     "text": [
      "Student Names: ('Student_1', 'Student_75', 'Student_12', 'Student_20', 'Student_94')\n",
      "Course Names: ('Course_10', 'Course_2', 'Course_2', 'Course_1', 'Course_3')\n",
      "Email Addresses: ('student3@1.com', 'student1@1.com', 'student5@1.com', 'student2@1.com', 'student5@1.com')\n",
      "<class 'tuple'>\n"
     ]
    }
   ],
   "source": [
    "student_name = ()\n",
    "course_name = ()\n",
    "email_address = ()\n",
    "\n",
    "for x in range(5):\n",
    "    student_name += (\"Student_\" + str(random.randint(1,100 )),)\n",
    "    course_name += (\"Course_\" + str(random.randint(1, 10)),)\n",
    "    email_address += (\"student\" + str(random.randint(1, 10)) + \"@1.com\",)\n",
    "\n",
    "print(\"Student Names:\", student_name)\n",
    "print(\"Course Names:\", course_name)\n",
    "print(\"Email Addresses:\", email_address)\n",
    "\n",
    "print(type(student_name))\n"
   ]
  },
  {
   "cell_type": "code",
   "execution_count": 9,
   "id": "7b33d21d",
   "metadata": {},
   "outputs": [
    {
     "ename": "SyntaxError",
     "evalue": "invalid syntax (<ipython-input-9-c374d13560b4>, line 1)",
     "output_type": "error",
     "traceback": [
      "\u001b[1;36m  File \u001b[1;32m\"<ipython-input-9-c374d13560b4>\"\u001b[1;36m, line \u001b[1;32m1\u001b[0m\n\u001b[1;33m    3. Create a dictionary variable with three keys, which are named same as the three variables created in the previous problem. Insert the previously created three variables values in the dictionary variable and print it.\u001b[0m\n\u001b[1;37m       ^\u001b[0m\n\u001b[1;31mSyntaxError\u001b[0m\u001b[1;31m:\u001b[0m invalid syntax\n"
     ]
    }
   ],
   "source": [
    "3. Create a dictionary variable with three keys, which are named same as the three variables created in the previous problem. Insert the previously created three variables values in the dictionary variable and print it."
   ]
  },
  {
   "cell_type": "code",
   "execution_count": 32,
   "id": "ae63afe8",
   "metadata": {},
   "outputs": [
    {
     "name": "stdout",
     "output_type": "stream",
     "text": [
      "{'Student name': ('Student_1', 'Student_75', 'Student_12', 'Student_20', 'Student_94'), 'Course name': ('Course_10', 'Course_2', 'Course_2', 'Course_1', 'Course_3'), 'EmailAddress': ('student3@1.com', 'student1@1.com', 'student5@1.com', 'student2@1.com', 'student5@1.com')}\n",
      "<class 'dict'>\n",
      "<class 'tuple'>\n"
     ]
    }
   ],
   "source": [
    "dict = {}\n",
    "\n",
    "dict['Student name'] = student_name\n",
    "dict['Course name'] = course_name\n",
    "dict['EmailAddress'] = email_address\n",
    "\n",
    "print(dict)\n",
    "print(type(dict))\n",
    "print(type(student_name))"
   ]
  },
  {
   "cell_type": "code",
   "execution_count": null,
   "id": "3f44f734",
   "metadata": {},
   "outputs": [],
   "source": [
    "4.Define a string variable 'energy' and assign value either 'Fossil' or 'Renewable'. Print \"Natural gas\" if the value of energy variable is 'Fossil' otherwise print \"solar power\". What will your program print if energy='Biomass '?"
   ]
  },
  {
   "cell_type": "code",
   "execution_count": 18,
   "id": "848b9a4a",
   "metadata": {},
   "outputs": [
    {
     "name": "stdout",
     "output_type": "stream",
     "text": [
      "Natural gas\n",
      "if energy = Biomass, the program will not print any because there are no condition for that , even it's same meaning\n"
     ]
    }
   ],
   "source": [
    "energy = 'Fossil'\n",
    "\n",
    "if energy == 'Fossil':\n",
    "    print(\"Natural gas\")\n",
    "else:\n",
    "    print(\"solar power\")\n",
    "    \n",
    "print(\"if energy = Biomass, the program will not print any because there are no condition for that , even it's same meaning\")"
   ]
  },
  {
   "cell_type": "code",
   "execution_count": null,
   "id": "a30faddd",
   "metadata": {},
   "outputs": [],
   "source": [
    "5.Print all prime numbers between 0 and 100 separated by line.5."
   ]
  },
  {
   "cell_type": "code",
   "execution_count": 22,
   "id": "8651e7c2",
   "metadata": {},
   "outputs": [
    {
     "name": "stdout",
     "output_type": "stream",
     "text": [
      "2,3,5,7,11,13,17,19,23,29,31,37,41,43,47,53,59,61,67,71,73,79,83,89,97,"
     ]
    }
   ],
   "source": [
    "for x in range(2,101):\n",
    "    for y in range(2,101):\n",
    "        if x % y == 0:\n",
    "            break\n",
    "    if x == y:\n",
    "        print(x, end = \",\")"
   ]
  },
  {
   "cell_type": "code",
   "execution_count": null,
   "id": "74dd2a8c",
   "metadata": {},
   "outputs": [],
   "source": [
    "()6.Is it possible to break a loop before executing for the defined number of iterations? If yes, provide an example using While loop structure. Otherwise, explain your answer (why and how)."
   ]
  },
  {
   "cell_type": "code",
   "execution_count": 25,
   "id": "1be40e03",
   "metadata": {},
   "outputs": [
    {
     "name": "stdout",
     "output_type": "stream",
     "text": [
      "testing 1\n",
      "testing 2\n"
     ]
    }
   ],
   "source": [
    "a = 1\n",
    "\n",
    "while True:\n",
    "    print(\"testing\",a)\n",
    "    a += 1\n",
    "    \n",
    "    if a == 3:\n",
    "        break"
   ]
  },
  {
   "cell_type": "code",
   "execution_count": null,
   "id": "1675922d",
   "metadata": {},
   "outputs": [],
   "source": [
    "7.Create  functions named  'Addition', 'Multiplication', 'Division' and 'Subtraction'. These functions takes two input parameters say (x, y) and return (x+y),(x*y), (x/y) and (x-y). Call the function with (4,7) arguments and print the outputs"
   ]
  },
  {
   "cell_type": "code",
   "execution_count": 26,
   "id": "164eb73a",
   "metadata": {},
   "outputs": [
    {
     "name": "stdout",
     "output_type": "stream",
     "text": [
      "Addition: 11\n",
      "Multiplication: 28\n",
      "Division: 0.5714285714285714\n",
      "Subtraction: -3\n"
     ]
    }
   ],
   "source": [
    "def Addition(x, y):\n",
    "    return x + y\n",
    "\n",
    "def Multiplication(x, y):\n",
    "    return x * y\n",
    "\n",
    "def Division(x, y):\n",
    "    if y != 0:\n",
    "        return x / y\n",
    "    else:\n",
    "        raise ValueError(\"Division by zero is not allowed.\")\n",
    "\n",
    "def Subtraction(x, y):\n",
    "    return x - y\n",
    "\n",
    "x = 4\n",
    "y = 7\n",
    "\n",
    "print(\"Addition:\", Addition(x, y))\n",
    "print(\"Multiplication:\", Multiplication(x, y))\n",
    "print(\"Division:\", Division(x, y))\n",
    "print(\"Subtraction:\", Subtraction(x, y))"
   ]
  },
  {
   "cell_type": "code",
   "execution_count": null,
   "id": "a8c8403a",
   "metadata": {},
   "outputs": [],
   "source": [
    "8.Create and display a 8x8 Identity matrix and multiply it with a 8x4 Random matrix."
   ]
  },
  {
   "cell_type": "code",
   "execution_count": 35,
   "id": "073bce78",
   "metadata": {},
   "outputs": [],
   "source": [
    "import numpy as np"
   ]
  },
  {
   "cell_type": "code",
   "execution_count": 36,
   "id": "39d85929",
   "metadata": {},
   "outputs": [
    {
     "name": "stdout",
     "output_type": "stream",
     "text": [
      "[[0 0 0 0 0 0 0 0]\n",
      " [0 0 0 0 0 0 0 0]\n",
      " [0 0 0 0 0 0 0 0]\n",
      " [0 0 0 0 0 0 0 0]\n",
      " [0 0 0 0 0 0 0 0]\n",
      " [0 0 0 0 0 0 0 0]\n",
      " [0 0 0 0 0 0 0 0]\n",
      " [0 0 0 0 0 0 0 0]]\n",
      "[[0.07756861 0.16171158 0.47202029 0.46505266]\n",
      " [0.61010209 0.73019616 0.53977515 0.60752854]\n",
      " [0.78825041 0.50490946 0.9258402  0.22890639]\n",
      " [0.78144228 0.20678514 0.68423985 0.08425472]\n",
      " [0.29077879 0.35057113 0.38087315 0.7764529 ]\n",
      " [0.9229707  0.78526362 0.51901167 0.40001265]\n",
      " [0.95370238 0.92669531 0.75250705 0.89193508]\n",
      " [0.23818216 0.71816214 0.20333704 0.20785159]]\n",
      "[[0. 0. 0. 0.]\n",
      " [0. 0. 0. 0.]\n",
      " [0. 0. 0. 0.]\n",
      " [0. 0. 0. 0.]\n",
      " [0. 0. 0. 0.]\n",
      " [0. 0. 0. 0.]\n",
      " [0. 0. 0. 0.]\n",
      " [0. 0. 0. 0.]]\n"
     ]
    }
   ],
   "source": [
    "x = np.zeros((8,8),dtype = int)\n",
    "print(x)\n",
    "\n",
    "y = np.random.rand(8,4)\n",
    "print(y)\n",
    "\n",
    "print(np.dot(x, y))"
   ]
  },
  {
   "cell_type": "code",
   "execution_count": 37,
   "id": "76c2ea21",
   "metadata": {},
   "outputs": [
    {
     "name": "stdout",
     "output_type": "stream",
     "text": [
      "Object `matrix` not found.\n"
     ]
    }
   ],
   "source": [
    "9.Create a 8x9 matrix, initialise with random values and print it. Now, transpose the matrix and print it. How the transposed matrix is different from original matrix?"
   ]
  },
  {
   "cell_type": "code",
   "execution_count": null,
   "id": "9589bf42",
   "metadata": {},
   "outputs": [],
   "source": [
    "9.Create a 8x9 matrix, initialise with random values and print it. Now, transpose the matrix and print it. How the transposed matrix is different from original matrix"
   ]
  },
  {
   "cell_type": "code",
   "execution_count": 41,
   "id": "2a502536",
   "metadata": {},
   "outputs": [
    {
     "name": "stdout",
     "output_type": "stream",
     "text": [
      "[[0.59882835 0.08912866 0.57701321 0.72450256 0.31600071 0.03699442\n",
      "  0.8142279  0.44577505 0.76196176]\n",
      " [0.11684989 0.52742283 0.58072965 0.85886494 0.87257248 0.33628151\n",
      "  0.17635662 0.85360976 0.19231127]\n",
      " [0.01677829 0.80550524 0.64325278 0.57775398 0.38169541 0.95484339\n",
      "  0.20281401 0.11414599 0.38427546]\n",
      " [0.24407335 0.69951169 0.3379791  0.93171836 0.90367478 0.07086498\n",
      "  0.23715568 0.64874169 0.7507562 ]\n",
      " [0.70992469 0.49292051 0.14560701 0.69889961 0.32000015 0.83381955\n",
      "  0.05294844 0.03876648 0.77063412]\n",
      " [0.78332256 0.41094174 0.43643019 0.57049472 0.97790563 0.58207032\n",
      "  0.06414961 0.92139266 0.50808193]\n",
      " [0.85401697 0.1661745  0.85077285 0.72156966 0.9557161  0.77566575\n",
      "  0.12184896 0.13556113 0.33859703]\n",
      " [0.4541185  0.96145952 0.94800747 0.34350331 0.25369713 0.12793444\n",
      "  0.96381006 0.01985119 0.44143859]]\n",
      "--------------------------------------------\n",
      "[[0.59882835 0.11684989 0.01677829 0.24407335 0.70992469 0.78332256\n",
      "  0.85401697 0.4541185 ]\n",
      " [0.08912866 0.52742283 0.80550524 0.69951169 0.49292051 0.41094174\n",
      "  0.1661745  0.96145952]\n",
      " [0.57701321 0.58072965 0.64325278 0.3379791  0.14560701 0.43643019\n",
      "  0.85077285 0.94800747]\n",
      " [0.72450256 0.85886494 0.57775398 0.93171836 0.69889961 0.57049472\n",
      "  0.72156966 0.34350331]\n",
      " [0.31600071 0.87257248 0.38169541 0.90367478 0.32000015 0.97790563\n",
      "  0.9557161  0.25369713]\n",
      " [0.03699442 0.33628151 0.95484339 0.07086498 0.83381955 0.58207032\n",
      "  0.77566575 0.12793444]\n",
      " [0.8142279  0.17635662 0.20281401 0.23715568 0.05294844 0.06414961\n",
      "  0.12184896 0.96381006]\n",
      " [0.44577505 0.85360976 0.11414599 0.64874169 0.03876648 0.92139266\n",
      "  0.13556113 0.01985119]\n",
      " [0.76196176 0.19231127 0.38427546 0.7507562  0.77063412 0.50808193\n",
      "  0.33859703 0.44143859]]\n"
     ]
    }
   ],
   "source": [
    "x = np.random.rand(8, 9)\n",
    "print(x)\n",
    "print(\"--------------------------------------------\")\n",
    "\n",
    "transposed_matrix = np.transpose(x)\n",
    "\n",
    "print(transposed_matrix)"
   ]
  },
  {
   "cell_type": "code",
   "execution_count": null,
   "id": "d43bbde7",
   "metadata": {},
   "outputs": [],
   "source": [
    "10.Expport the \"PedestrianCounting.csv\" file as a matrix. The row of the matrix represents data point or instance and the column represents the variable or feature. Print the number of data instances and variables present in this dataset. Calculate mean of the third variable and deduct this mean from original values of the variable. Print both original and modified values of the variable."
   ]
  },
  {
   "cell_type": "code",
   "execution_count": 58,
   "id": "9876fbb7",
   "metadata": {},
   "outputs": [],
   "source": [
    "import pandas as pd"
   ]
  },
  {
   "cell_type": "code",
   "execution_count": 59,
   "id": "2161c969",
   "metadata": {},
   "outputs": [
    {
     "name": "stdout",
     "output_type": "stream",
     "text": [
      "testing\n",
      "[['2023-07-04T11:00:00+10:00' 1 791 653 1444]\n",
      " ['2023-07-04T14:00:00+10:00' 1 1301 1074 2375]\n",
      " ['2023-07-04T17:00:00+10:00' 1 1532 931 2463]\n",
      " ...\n",
      " ['2023-07-27T12:00:00+10:00' 122 45 33 78]\n",
      " ['2023-07-27T19:00:00+10:00' 122 44 30 74]\n",
      " ['2023-07-27T20:00:00+10:00' 122 21 12 33]]\n"
     ]
    }
   ],
   "source": [
    "data = pd.read_json('2.json')\n",
    "data_matrix = data.values\n",
    "\n",
    "print(\"testing\")\n",
    "print(data_matrix)"
   ]
  },
  {
   "cell_type": "code",
   "execution_count": 60,
   "id": "c038ede2",
   "metadata": {},
   "outputs": [
    {
     "name": "stdout",
     "output_type": "stream",
     "text": [
      "Number of data instances: 178827\n",
      "Number of variables: 5\n"
     ]
    }
   ],
   "source": [
    "num_instances, num_variables = data.shape\n",
    "print(\"Number of data instances:\", num_instances)\n",
    "print(\"Number of variables:\", num_variables)"
   ]
  },
  {
   "cell_type": "code",
   "execution_count": 67,
   "id": "bbc590bb",
   "metadata": {},
   "outputs": [],
   "source": [
    "Direction_1 = data.iloc[:, 2]\n",
    "mean_Direction_1 = Direction_1.mean()\n",
    "Final_Direction_1 = Direction_1 - mean_Direction_1"
   ]
  },
  {
   "cell_type": "code",
   "execution_count": 68,
   "id": "0217d292",
   "metadata": {
    "scrolled": true
   },
   "outputs": [
    {
     "name": "stdout",
     "output_type": "stream",
     "text": [
      "Number of data instances: 178827\n",
      "Number of variables: 5\n",
      "Mean of the third variable: 208.55983156905836\n",
      "Values of the Direction_1 variable:\n",
      "0          791\n",
      "1         1301\n",
      "2         1532\n",
      "3          527\n",
      "4           85\n",
      "          ... \n",
      "178822      39\n",
      "178823      17\n",
      "178824      45\n",
      "178825      44\n",
      "178826      21\n",
      "Name: direction_1, Length: 178827, dtype: int64\n",
      "Final values of Direction_1 variable:\n",
      "0          582.440168\n",
      "1         1092.440168\n",
      "2         1323.440168\n",
      "3          318.440168\n",
      "4         -123.559832\n",
      "             ...     \n",
      "178822    -169.559832\n",
      "178823    -191.559832\n",
      "178824    -163.559832\n",
      "178825    -164.559832\n",
      "178826    -187.559832\n",
      "Name: direction_1, Length: 178827, dtype: float64\n"
     ]
    }
   ],
   "source": [
    "print(\"Number of data instances:\", num_instances)\n",
    "print(\"Number of variables:\", num_variables)\n",
    "print(\"Mean of the Direction_1:\", mean_Direction_1)\n",
    "print(\"Values of the Direction_1 variable:\")\n",
    "print(Direction_1)\n",
    "print(\"Final values of Direction_1 variable:\")\n",
    "print(Final_Direction_1)"
   ]
  },
  {
   "cell_type": "code",
   "execution_count": null,
   "id": "82a8acf4",
   "metadata": {},
   "outputs": [],
   "source": []
  }
 ],
 "metadata": {
  "kernelspec": {
   "display_name": "Python 3",
   "language": "python",
   "name": "python3"
  },
  "language_info": {
   "codemirror_mode": {
    "name": "ipython",
    "version": 3
   },
   "file_extension": ".py",
   "mimetype": "text/x-python",
   "name": "python",
   "nbconvert_exporter": "python",
   "pygments_lexer": "ipython3",
   "version": "3.8.8"
  }
 },
 "nbformat": 4,
 "nbformat_minor": 5
}
