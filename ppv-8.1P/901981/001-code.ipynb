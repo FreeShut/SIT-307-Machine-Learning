{
 "cells": [
  {
   "cell_type": "code",
   "execution_count": 1,
   "id": "4bf569ee",
   "metadata": {},
   "outputs": [
    {
     "ename": "NameError",
     "evalue": "name 'Q1' is not defined",
     "output_type": "error",
     "traceback": [
      "\u001b[1;31m---------------------------------------------------------------------------\u001b[0m",
      "\u001b[1;31mNameError\u001b[0m                                 Traceback (most recent call last)",
      "\u001b[1;32m<ipython-input-1-3aedca9307d5>\u001b[0m in \u001b[0;36m<module>\u001b[1;34m\u001b[0m\n\u001b[1;32m----> 1\u001b[1;33m \u001b[0mQ1\u001b[0m\u001b[1;33m\u001b[0m\u001b[1;33m\u001b[0m\u001b[0m\n\u001b[0m",
      "\u001b[1;31mNameError\u001b[0m: name 'Q1' is not defined"
     ]
    }
   ],
   "source": [
    "Q1"
   ]
  },
  {
   "cell_type": "code",
   "execution_count": 3,
   "id": "2c9637e4",
   "metadata": {},
   "outputs": [
    {
     "name": "stdout",
     "output_type": "stream",
     "text": [
      "Accuracy: 0.8525\n",
      "\n",
      "Classification Report:\n",
      "              precision    recall  f1-score   support\n",
      "\n",
      "      stable       0.84      0.72      0.77       693\n",
      "    unstable       0.86      0.93      0.89      1307\n",
      "\n",
      "    accuracy                           0.85      2000\n",
      "   macro avg       0.85      0.82      0.83      2000\n",
      "weighted avg       0.85      0.85      0.85      2000\n",
      "\n",
      "Confusion Matrix:\n",
      "[[ 496  197]\n",
      " [  98 1209]]\n"
     ]
    }
   ],
   "source": [
    "import pandas as pd\n",
    "from sklearn.model_selection import train_test_split\n",
    "from sklearn.tree import DecisionTreeClassifier\n",
    "from sklearn.preprocessing import StandardScaler\n",
    "from sklearn.metrics import accuracy_score, classification_report, confusion_matrix\n",
    "\n",
    "data = pd.read_csv('UCI.csv')\n",
    "data = data.drop('stab', axis=1)\n",
    "\n",
    "features = data.drop(\"stabf\", axis=1)\n",
    "target = data[\"stabf\"]\n",
    "\n",
    "scaler = StandardScaler()\n",
    "features_scaled = scaler.fit_transform(features)\n",
    "\n",
    "X_train, X_test, y_train, y_test = train_test_split(features_scaled, target, test_size=0.2, random_state=42)\n",
    "\n",
    "knn = KNeighborsClassifier(n_neighbors=5)\n",
    "knn.fit(X_train, y_train)\n",
    "y_pred_knn = knn.predict(X_test)\n",
    "\n",
    "accuracy_knn = accuracy_score(y_test, y_pred_knn)\n",
    "classification_rep_knn = classification_report(y_test, y_pred_knn)\n",
    "confusion_mat_knn = confusion_matrix(y_test, y_pred_knn)\n",
    "\n",
    "print(f\"Accuracy: {accuracy_knn}\\n\")\n",
    "print(\"Classification Report:\")\n",
    "print(classification_rep_knn)\n",
    "print(\"Confusion Matrix:\")\n",
    "print(confusion_mat_knn)\n"
   ]
  },
  {
   "cell_type": "code",
   "execution_count": 2,
   "id": "8c8f7734",
   "metadata": {},
   "outputs": [
    {
     "name": "stdout",
     "output_type": "stream",
     "text": [
      "{'Model Hyperparameters': {'Kernel': 'Polynomial', 'Degree': 3, 'Regularization Parameter (C)': 1}, 'Performance Metrics': {'Accuracy': 0.661, 'Classification Report': '              precision    recall  f1-score   support\\n\\n      stable       0.63      0.05      0.10       693\\n    unstable       0.66      0.98      0.79      1307\\n\\n    accuracy                           0.66      2000\\n   macro avg       0.65      0.52      0.44      2000\\nweighted avg       0.65      0.66      0.55      2000\\n', 'Confusion Matrix': [[36, 657], [21, 1286]]}}\n"
     ]
    }
   ],
   "source": [
    "from sklearn.decomposition import PCA\n",
    "from sklearn.svm import SVC\n",
    "\n",
    "data = pd.read_csv('UCI.csv')\n",
    "data = data.drop('stab', axis=1)\n",
    "\n",
    "features = data.drop(\"stabf\", axis=1)\n",
    "target = data[\"stabf\"]\n",
    "\n",
    "scaler = StandardScaler()\n",
    "features_scaled = scaler.fit_transform(features)\n",
    "\n",
    "pca = PCA(n_components=3)\n",
    "principal_components = pca.fit_transform(features_scaled)\n",
    "\n",
    "pc_df = pd.DataFrame(data=principal_components, columns=['PC1', 'PC2', 'PC3'])\n",
    "pc_df['stabf'] = target\n",
    "\n",
    "X_train, X_test, y_train, y_test = train_test_split(\n",
    "    pc_df.drop(\"stabf\", axis=1), pc_df[\"stabf\"], test_size=0.2, random_state=42)\n",
    "\n",
    "svm_poly = SVC(kernel='poly', degree=3, C=1)\n",
    "svm_poly.fit(X_train, y_train)\n",
    "\n",
    "y_pred = svm_poly.predict(X_test)\n",
    "\n",
    "accuracy = accuracy_score(y_test, y_pred)\n",
    "classification_rep = classification_report(y_test, y_pred)\n",
    "confusion_mat = confusion_matrix(y_test, y_pred)\n",
    "\n",
    "results = {\n",
    "    'Model Hyperparameters': {\n",
    "        'Kernel': 'Polynomial',\n",
    "        'Degree': 3,\n",
    "        'Regularization Parameter (C)': 1\n",
    "    },\n",
    "    'Performance Metrics': {\n",
    "        'Accuracy': accuracy,\n",
    "        'Classification Report': classification_rep,\n",
    "        'Confusion Matrix': confusion_mat.tolist()\n",
    "    }\n",
    "}\n",
    "\n",
    "print(results)\n"
   ]
  },
  {
   "cell_type": "code",
   "execution_count": 4,
   "id": "9e064e67",
   "metadata": {},
   "outputs": [
    {
     "ename": "NameError",
     "evalue": "name 'Q2' is not defined",
     "output_type": "error",
     "traceback": [
      "\u001b[1;31m---------------------------------------------------------------------------\u001b[0m",
      "\u001b[1;31mNameError\u001b[0m                                 Traceback (most recent call last)",
      "\u001b[1;32m<ipython-input-4-88f1e5a216b7>\u001b[0m in \u001b[0;36m<module>\u001b[1;34m\u001b[0m\n\u001b[1;32m----> 1\u001b[1;33m \u001b[0mQ2\u001b[0m\u001b[1;33m\u001b[0m\u001b[1;33m\u001b[0m\u001b[0m\n\u001b[0m",
      "\u001b[1;31mNameError\u001b[0m: name 'Q2' is not defined"
     ]
    }
   ],
   "source": [
    "Q2"
   ]
  },
  {
   "cell_type": "code",
   "execution_count": 5,
   "id": "32c15628",
   "metadata": {},
   "outputs": [
    {
     "name": "stdout",
     "output_type": "stream",
     "text": [
      "50-50% Data Split Results:\n",
      "Accuracy: 0.8434\n",
      "\n",
      "              precision    recall  f1-score   support\n",
      "\n",
      "      stable       0.78      0.78      0.78      1795\n",
      "    unstable       0.88      0.88      0.88      3205\n",
      "\n",
      "    accuracy                           0.84      5000\n",
      "   macro avg       0.83      0.83      0.83      5000\n",
      "weighted avg       0.84      0.84      0.84      5000\n",
      "\n",
      "\n",
      "80-20% Data Split Results:\n",
      "Accuracy: 0.8405\n",
      "\n",
      "              precision    recall  f1-score   support\n",
      "\n",
      "      stable       0.76      0.79      0.78       693\n",
      "    unstable       0.89      0.87      0.88      1307\n",
      "\n",
      "    accuracy                           0.84      2000\n",
      "   macro avg       0.82      0.83      0.83      2000\n",
      "weighted avg       0.84      0.84      0.84      2000\n",
      "\n"
     ]
    }
   ],
   "source": [
    "data = pd.read_csv('UCI.csv')\n",
    "data = data.drop('stab', axis=1)\n",
    "\n",
    "features = data.drop(\"stabf\", axis=1)\n",
    "target = data[\"stabf\"]\n",
    "\n",
    "scaler = StandardScaler()\n",
    "features_scaled = scaler.fit_transform(features)\n",
    "\n",
    "# 50-50% \n",
    "X_train_50, X_test_50, y_train_50, y_test_50 = train_test_split(features_scaled, target, test_size=0.5, random_state=42)\n",
    "dt_50 = DecisionTreeClassifier(random_state=42)\n",
    "dt_50.fit(X_train_50, y_train_50)\n",
    "y_pred_dt_50 = dt_50.predict(X_test_50)\n",
    "accuracy_dt_50 = accuracy_score(y_test_50, y_pred_dt_50)\n",
    "classification_rep_dt_50 = classification_report(y_test_50, y_pred_dt_50)\n",
    "\n",
    "# 80-20%\n",
    "X_train_80, X_test_80, y_train_80, y_test_80 = train_test_split(features_scaled, target, test_size=0.2, random_state=42)\n",
    "dt_80 = DecisionTreeClassifier(random_state=42)\n",
    "dt_80.fit(X_train_80, y_train_80)\n",
    "y_pred_dt_80 = dt_80.predict(X_test_80)\n",
    "accuracy_dt_80 = accuracy_score(y_test_80, y_pred_dt_80)\n",
    "classification_rep_dt_80 = classification_report(y_test_80, y_pred_dt_80)\n",
    "\n",
    "print(\"50-50% Data Split Results:\")\n",
    "print(f\"Accuracy: {accuracy_dt_50}\\n\")\n",
    "print(classification_rep_dt_50)\n",
    "\n",
    "print(\"\\n80-20% Data Split Results:\")\n",
    "print(f\"Accuracy: {accuracy_dt_80}\\n\")\n",
    "print(classification_rep_dt_80)\n"
   ]
  },
  {
   "cell_type": "code",
   "execution_count": null,
   "id": "5f3989c5",
   "metadata": {},
   "outputs": [],
   "source": []
  }
 ],
 "metadata": {
  "kernelspec": {
   "display_name": "Python 3",
   "language": "python",
   "name": "python3"
  },
  "language_info": {
   "codemirror_mode": {
    "name": "ipython",
    "version": 3
   },
   "file_extension": ".py",
   "mimetype": "text/x-python",
   "name": "python",
   "nbconvert_exporter": "python",
   "pygments_lexer": "ipython3",
   "version": "3.8.8"
  }
 },
 "nbformat": 4,
 "nbformat_minor": 5
}
