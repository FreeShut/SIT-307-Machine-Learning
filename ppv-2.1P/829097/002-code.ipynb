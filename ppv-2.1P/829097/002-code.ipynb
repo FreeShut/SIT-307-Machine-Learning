{
 "cells": [
  {
   "cell_type": "code",
   "execution_count": 20,
   "id": "6e14c0c1",
   "metadata": {},
   "outputs": [],
   "source": [
    "import pandas as pd\n",
    "def abc(sensor):\n",
    "    \n",
    "    df = pd.read_csv(sensor)\n",
    "    df.info()\n",
    "    df.describe()\n",
    "\n",
    "    "
   ]
  },
  {
   "cell_type": "code",
   "execution_count": 21,
   "id": "850caf45",
   "metadata": {},
   "outputs": [
    {
     "ename": "SyntaxError",
     "evalue": "invalid syntax (<ipython-input-21-87c0f6e6aecb>, line 1)",
     "output_type": "error",
     "traceback": [
      "\u001b[1;36m  File \u001b[1;32m\"<ipython-input-21-87c0f6e6aecb>\"\u001b[1;36m, line \u001b[1;32m1\u001b[0m\n\u001b[1;33m    Question 1\u001b[0m\n\u001b[1;37m             ^\u001b[0m\n\u001b[1;31mSyntaxError\u001b[0m\u001b[1;31m:\u001b[0m invalid syntax\n"
     ]
    }
   ],
   "source": [
    "Question 1"
   ]
  },
  {
   "cell_type": "code",
   "execution_count": 22,
   "id": "a7178495",
   "metadata": {},
   "outputs": [
    {
     "name": "stdout",
     "output_type": "stream",
     "text": [
      "<class 'pandas.core.frame.DataFrame'>\n",
      "RangeIndex: 56570 entries, 0 to 56569\n",
      "Data columns (total 21 columns):\n",
      " #   Column        Non-Null Count  Dtype  \n",
      "---  ------        --------------  -----  \n",
      " 0   timestamp     56570 non-null  object \n",
      " 1   mac           56570 non-null  object \n",
      " 2   boardtype     56570 non-null  int64  \n",
      " 3   boardid       56570 non-null  int64  \n",
      " 4   temp_max      56570 non-null  float64\n",
      " 5   temp_min      56570 non-null  float64\n",
      " 6   temp_avg      56570 non-null  float64\n",
      " 7   light_max     56570 non-null  float64\n",
      " 8   light_min     56570 non-null  float64\n",
      " 9   light_avg     56570 non-null  float64\n",
      " 10  humidity_min  56570 non-null  float64\n",
      " 11  humidity_max  56570 non-null  float64\n",
      " 12  humidity_avg  56570 non-null  float64\n",
      " 13  model         56570 non-null  object \n",
      " 14  latitude      56570 non-null  float64\n",
      " 15  longitude     56570 non-null  float64\n",
      " 16  elevation     34975 non-null  float64\n",
      " 17  location      56570 non-null  object \n",
      " 18  rowid         56570 non-null  object \n",
      " 19  Position      0 non-null      float64\n",
      " 20  geolocation   56570 non-null  object \n",
      "dtypes: float64(13), int64(2), object(6)\n",
      "memory usage: 9.1+ MB\n",
      "---------------------------------------------\n",
      "Feature 'timestamp' has 0 missing entries.\n",
      "---------------------------------------------\n",
      "Feature 'mac' has 0 missing entries.\n",
      "---------------------------------------------\n",
      "Feature 'boardtype' has 0 missing entries.\n",
      "---------------------------------------------\n",
      "Feature 'boardid' has 0 missing entries.\n",
      "---------------------------------------------\n",
      "Feature 'temp_max' has 0 missing entries.\n",
      "---------------------------------------------\n",
      "Feature 'temp_min' has 0 missing entries.\n",
      "---------------------------------------------\n",
      "Feature 'temp_avg' has 0 missing entries.\n",
      "---------------------------------------------\n",
      "Feature 'light_max' has 0 missing entries.\n",
      "---------------------------------------------\n",
      "Feature 'light_min' has 0 missing entries.\n",
      "---------------------------------------------\n",
      "Feature 'light_avg' has 0 missing entries.\n",
      "---------------------------------------------\n",
      "Feature 'humidity_min' has 0 missing entries.\n",
      "---------------------------------------------\n",
      "Feature 'humidity_max' has 0 missing entries.\n",
      "---------------------------------------------\n",
      "Feature 'humidity_avg' has 0 missing entries.\n",
      "---------------------------------------------\n",
      "Feature 'model' has 0 missing entries.\n",
      "---------------------------------------------\n",
      "Feature 'latitude' has 0 missing entries.\n",
      "---------------------------------------------\n",
      "Feature 'longitude' has 0 missing entries.\n",
      "---------------------------------------------\n",
      "Feature 'elevation' has 21595 missing entries.\n",
      "---------------------------------------------\n",
      "Feature 'location' has 0 missing entries.\n",
      "---------------------------------------------\n",
      "Feature 'rowid' has 0 missing entries.\n",
      "---------------------------------------------\n",
      "Feature 'Position' has 56570 missing entries.\n",
      "---------------------------------------------\n",
      "Feature 'geolocation' has 0 missing entries.\n"
     ]
    }
   ],
   "source": [
    "import pandas as pd\n",
    "\n",
    "def missing_entries(sensor):\n",
    "    df = pd.read_csv(sensor)\n",
    "    df.info()\n",
    "    \n",
    "    missing_counts = df.isnull().sum()\n",
    "\n",
    "    for feature, missing_count in missing_counts.iteritems():\n",
    "        print(\"---------------------------------------------\")\n",
    "        print(f\"Feature '{feature}' has {missing_count} missing entries.\")\n",
    "\n",
    "missing_entries('sensor.csv')\n"
   ]
  },
  {
   "cell_type": "code",
   "execution_count": 23,
   "id": "35fc3555",
   "metadata": {},
   "outputs": [
    {
     "ename": "SyntaxError",
     "evalue": "invalid syntax (<ipython-input-23-77bae4db01db>, line 1)",
     "output_type": "error",
     "traceback": [
      "\u001b[1;36m  File \u001b[1;32m\"<ipython-input-23-77bae4db01db>\"\u001b[1;36m, line \u001b[1;32m1\u001b[0m\n\u001b[1;33m    Question 2.\u001b[0m\n\u001b[1;37m             ^\u001b[0m\n\u001b[1;31mSyntaxError\u001b[0m\u001b[1;31m:\u001b[0m invalid syntax\n"
     ]
    }
   ],
   "source": [
    "Question 2."
   ]
  },
  {
   "cell_type": "code",
   "execution_count": 30,
   "id": "1fbf3c51",
   "metadata": {},
   "outputs": [
    {
     "name": "stdout",
     "output_type": "stream",
     "text": [
      "Summary Statistics before filling missing entries:\n",
      "       boardtype       boardid      temp_max      temp_min      temp_avg  \\\n",
      "count    56570.0  56570.000000  56570.000000  56570.000000  56570.000000   \n",
      "mean         1.0    507.918738     18.522650     18.522650     18.522650   \n",
      "std          0.0      2.673337      5.498701      5.498701      5.498701   \n",
      "min          1.0    501.000000      4.200000      4.200000      4.200000   \n",
      "25%          1.0    506.000000     14.800000     14.800000     14.800000   \n",
      "50%          1.0    509.000000     17.700000     17.700000     17.700000   \n",
      "75%          1.0    510.000000     21.900000     21.900000     21.900000   \n",
      "max          1.0    511.000000     45.200000     45.200000     45.200000   \n",
      "\n",
      "          light_max     light_min     light_avg  humidity_min  humidity_max  \\\n",
      "count  56570.000000  56570.000000  56570.000000  56570.000000  56570.000000   \n",
      "mean      48.674527     48.674527     48.674527     49.431043     49.431043   \n",
      "std       43.973493     43.973493     43.973493     13.413633     13.413633   \n",
      "min        0.000000      0.000000      0.000000    -24.900000    -24.900000   \n",
      "25%        2.900000      2.900000      2.900000     41.700000     41.700000   \n",
      "50%       49.900000     49.900000     49.900000     51.000000     51.000000   \n",
      "75%       94.900000     94.900000     94.900000     58.700000     58.700000   \n",
      "max       98.700000     98.700000     98.700000    102.500000    102.500000   \n",
      "\n",
      "       humidity_avg      latitude     longitude     elevation  Position  \n",
      "count  56570.000000  56570.000000  56570.000000  34975.000000       0.0  \n",
      "mean      49.431043    -37.818444    144.950806     12.973810       NaN  \n",
      "std       13.413633      0.002513      0.017177     14.777655       NaN  \n",
      "min      -24.900000    -37.820354    144.940482      0.030000       NaN  \n",
      "25%       41.700000    -37.819904    144.940485      0.030000       NaN  \n",
      "50%       51.000000    -37.819712    144.941325      2.740000       NaN  \n",
      "75%       58.700000    -37.814922    144.979018     29.910000       NaN  \n",
      "max      102.500000    -37.813073    144.982258     38.790000       NaN  \n",
      "Replacement value for 'boardtype': 1.0\n",
      "Replacement value for 'boardid': 507.91873784691535\n",
      "Replacement value for 'temp_max': 18.52264981438906\n",
      "Replacement value for 'temp_min': 18.52264981438906\n",
      "Replacement value for 'temp_avg': 18.52264981438906\n",
      "Replacement value for 'light_max': 48.674527134525654\n",
      "Replacement value for 'light_min': 48.674527134525654\n",
      "Replacement value for 'light_avg': 48.674527134525654\n",
      "Replacement value for 'humidity_min': 49.431042955630296\n",
      "Replacement value for 'humidity_max': 49.431042955630296\n",
      "Replacement value for 'humidity_avg': 49.431042955630296\n",
      "Replacement value for 'latitude': -37.81844434171786\n",
      "Replacement value for 'longitude': 144.95080565510514\n",
      "Replacement value for 'elevation': 12.973809578272622\n",
      "Replacement value for 'Position': nan\n",
      "\n",
      "Summary Statistics after filling missing entries:\n",
      "       boardtype       boardid      temp_max      temp_min      temp_avg  \\\n",
      "count    56570.0  56570.000000  56570.000000  56570.000000  56570.000000   \n",
      "mean         1.0    507.918738     18.522650     18.522650     18.522650   \n",
      "std          0.0      2.673337      5.498701      5.498701      5.498701   \n",
      "min          1.0    501.000000      4.200000      4.200000      4.200000   \n",
      "25%          1.0    506.000000     14.800000     14.800000     14.800000   \n",
      "50%          1.0    509.000000     17.700000     17.700000     17.700000   \n",
      "75%          1.0    510.000000     21.900000     21.900000     21.900000   \n",
      "max          1.0    511.000000     45.200000     45.200000     45.200000   \n",
      "\n",
      "          light_max     light_min     light_avg  humidity_min  humidity_max  \\\n",
      "count  56570.000000  56570.000000  56570.000000  56570.000000  56570.000000   \n",
      "mean      48.674527     48.674527     48.674527     49.431043     49.431043   \n",
      "std       43.973493     43.973493     43.973493     13.413633     13.413633   \n",
      "min        0.000000      0.000000      0.000000    -24.900000    -24.900000   \n",
      "25%        2.900000      2.900000      2.900000     41.700000     41.700000   \n",
      "50%       49.900000     49.900000     49.900000     51.000000     51.000000   \n",
      "75%       94.900000     94.900000     94.900000     58.700000     58.700000   \n",
      "max       98.700000     98.700000     98.700000    102.500000    102.500000   \n",
      "\n",
      "       humidity_avg      latitude     longitude    elevation  Position  \n",
      "count  56570.000000  56570.000000  56570.000000  56570.00000       0.0  \n",
      "mean      49.431043    -37.818444    144.950806     12.97381       NaN  \n",
      "std       13.413633      0.002513      0.017177     11.61954       NaN  \n",
      "min      -24.900000    -37.820354    144.940482      0.03000       NaN  \n",
      "25%       41.700000    -37.819904    144.940485      2.74000       NaN  \n",
      "50%       51.000000    -37.819712    144.941325     12.97381       NaN  \n",
      "75%       58.700000    -37.814922    144.979018     22.57000       NaN  \n",
      "max      102.500000    -37.813073    144.982258     38.79000       NaN  \n",
      "Summary Statistics before filling missing entries:\n",
      "       boardtype       boardid      temp_max      temp_min      temp_avg  \\\n",
      "count    56570.0  56570.000000  56570.000000  56570.000000  56570.000000   \n",
      "mean         1.0    507.918738     18.522650     18.522650     18.522650   \n",
      "std          0.0      2.673337      5.498701      5.498701      5.498701   \n",
      "min          1.0    501.000000      4.200000      4.200000      4.200000   \n",
      "25%          1.0    506.000000     14.800000     14.800000     14.800000   \n",
      "50%          1.0    509.000000     17.700000     17.700000     17.700000   \n",
      "75%          1.0    510.000000     21.900000     21.900000     21.900000   \n",
      "max          1.0    511.000000     45.200000     45.200000     45.200000   \n",
      "\n",
      "          light_max     light_min     light_avg  humidity_min  humidity_max  \\\n",
      "count  56570.000000  56570.000000  56570.000000  56570.000000  56570.000000   \n",
      "mean      48.674527     48.674527     48.674527     49.431043     49.431043   \n",
      "std       43.973493     43.973493     43.973493     13.413633     13.413633   \n",
      "min        0.000000      0.000000      0.000000    -24.900000    -24.900000   \n",
      "25%        2.900000      2.900000      2.900000     41.700000     41.700000   \n",
      "50%       49.900000     49.900000     49.900000     51.000000     51.000000   \n",
      "75%       94.900000     94.900000     94.900000     58.700000     58.700000   \n",
      "max       98.700000     98.700000     98.700000    102.500000    102.500000   \n",
      "\n",
      "       humidity_avg      latitude     longitude    elevation  Position  \n",
      "count  56570.000000  56570.000000  56570.000000  56570.00000       0.0  \n",
      "mean      49.431043    -37.818444    144.950806     12.97381       NaN  \n",
      "std       13.413633      0.002513      0.017177     11.61954       NaN  \n",
      "min      -24.900000    -37.820354    144.940482      0.03000       NaN  \n",
      "25%       41.700000    -37.819904    144.940485      2.74000       NaN  \n",
      "50%       51.000000    -37.819712    144.941325     12.97381       NaN  \n",
      "75%       58.700000    -37.814922    144.979018     22.57000       NaN  \n",
      "max      102.500000    -37.813073    144.982258     38.79000       NaN  \n"
     ]
    }
   ],
   "source": [
    "import pandas as pd\n",
    "\n",
    "def print_summary_statistics(df):\n",
    "    print(\"Summary Statistics before filling missing entries:\")\n",
    "    print(df.describe())\n",
    "\n",
    "def fill_missing_entries(sensor):\n",
    "    df = pd.read_csv(sensor)\n",
    "\n",
    "    # Calculate the mean \n",
    "    means = df.mean()\n",
    "\n",
    "    # Fill missing entries using mean\n",
    "    df.fillna(means, inplace=True)\n",
    "\n",
    "    # Print the replacement value \n",
    "    for feature, replacement_value in means.iteritems():\n",
    "        print(f\"Replacement value for '{feature}': {replacement_value}\")\n",
    "\n",
    "    # Print summary\n",
    "    print(\"\\nSummary Statistics after filling missing entries:\")\n",
    "    print(df.describe())\n",
    "\n",
    "\n",
    "    \n",
    "print_summary_statistics(pd.read_csv('sensor.csv')) \n",
    "fill_missing_entries('sensor.csv') \n",
    "print_summary_statistics(pd.read_csv('filled_' + 'sensor.csv')) \n"
   ]
  },
  {
   "cell_type": "code",
   "execution_count": null,
   "id": "dd62d617",
   "metadata": {},
   "outputs": [],
   "source": [
    "Question 3."
   ]
  },
  {
   "cell_type": "code",
   "execution_count": 36,
   "id": "3c97513d",
   "metadata": {},
   "outputs": [
    {
     "name": "stdout",
     "output_type": "stream",
     "text": [
      "DataFrame with Label Encoded 'Types':\n",
      "                       timestamp               mac  boardtype  boardid  \\\n",
      "0      2015-05-31T05:00:00+10:00  0013a20040b3155c          1      506   \n",
      "1      2015-05-31T07:05:00+10:00  0013a20040b3155c          1      506   \n",
      "2      2015-05-31T08:55:00+10:00  0013a20040b3155c          1      506   \n",
      "3      2015-05-31T10:00:00+10:00  0013a20040b3155c          1      506   \n",
      "4      2015-05-31T10:10:00+10:00  0013a20040b3155c          1      506   \n",
      "...                          ...               ...        ...      ...   \n",
      "56565  2015-01-05T22:15:00+11:00  0013a20040b31583          1      509   \n",
      "56566  2015-01-05T22:20:00+11:00  0013a20040b4b755          1      508   \n",
      "56567  2015-01-05T22:25:00+11:00  0013a20040b31583          1      509   \n",
      "56568  2015-01-05T22:25:00+11:00  0013a20040b31571          1      510   \n",
      "56569  2015-01-05T22:25:00+11:00  0013a20040b516ed          1      505   \n",
      "\n",
      "       temp_max  temp_min  temp_avg  light_max  light_min  light_avg  ...  \\\n",
      "0          13.9      13.9      13.9        8.3        8.3        8.3  ...   \n",
      "1          12.9      12.9      12.9        8.1        8.1        8.1  ...   \n",
      "2          13.2      13.2      13.2        8.2        8.2        8.2  ...   \n",
      "3          12.9      12.9      12.9        8.3        8.3        8.3  ...   \n",
      "4          12.9      12.9      12.9        8.4        8.4        8.4  ...   \n",
      "...         ...       ...       ...        ...        ...        ...  ...   \n",
      "56565      18.1      18.1      18.1        3.4        3.4        3.4  ...   \n",
      "56566      17.1      17.1      17.1        2.1        2.1        2.1  ...   \n",
      "56567      18.1      18.1      18.1        3.5        3.5        3.5  ...   \n",
      "56568      17.1      17.1      17.1        1.3        1.3        1.3  ...   \n",
      "56569      17.7      17.7      17.7        3.1        3.1        3.1  ...   \n",
      "\n",
      "       humidity_avg  model   latitude   longitude  elevation  \\\n",
      "0              38.7    ENV -37.820354  144.940482       0.71   \n",
      "1              40.9    ENV -37.820354  144.940482       0.71   \n",
      "2              40.7    ENV -37.820354  144.940482       0.71   \n",
      "3              44.0    ENV -37.820354  144.940482       0.71   \n",
      "4              44.2    ENV -37.820354  144.940482       0.71   \n",
      "...             ...    ...        ...         ...        ...   \n",
      "56565          61.4    ENV -37.819904  144.940485        NaN   \n",
      "56566          50.3    ENV -37.813408  144.979492      30.10   \n",
      "56567          62.5    ENV -37.819904  144.940485        NaN   \n",
      "56568          54.1    ENV -37.819712  144.941325        NaN   \n",
      "56569          57.8    ENV -37.813073  144.980406      29.91   \n",
      "\n",
      "                location               rowid Position  \\\n",
      "0      Docklands Library  506-20150530190000      NaN   \n",
      "1      Docklands Library  506-20150530210500      NaN   \n",
      "2      Docklands Library  506-20150530225500      NaN   \n",
      "3      Docklands Library  506-20150531000000      NaN   \n",
      "4      Docklands Library  506-20150531001000      NaN   \n",
      "...                  ...                 ...      ...   \n",
      "56565  Docklands Library  509-20150105111500      NaN   \n",
      "56566    Fitzroy Gardens  508-20150105112000      NaN   \n",
      "56567  Docklands Library  509-20150105112500      NaN   \n",
      "56568  Docklands Library  510-20150105112500      NaN   \n",
      "56569    Fitzroy Gardens  505-20150105112500      NaN   \n",
      "\n",
      "                    geolocation  integer_label  \n",
      "0      -37.8203537, 144.9404816              1  \n",
      "1      -37.8203537, 144.9404816              1  \n",
      "2      -37.8203537, 144.9404816              1  \n",
      "3      -37.8203537, 144.9404816              1  \n",
      "4      -37.8203537, 144.9404816              1  \n",
      "...                         ...            ...  \n",
      "56565  -37.8199043, 144.9404851              9  \n",
      "56566  -37.8134078, 144.9794923              7  \n",
      "56567  -37.8199043, 144.9404851              9  \n",
      "56568  -37.8197121, 144.9413253              9  \n",
      "56569   -37.813073, 144.9804061              5  \n",
      "\n",
      "[56570 rows x 22 columns]\n"
     ]
    }
   ],
   "source": [
    "import pandas as pd\n",
    "from sklearn.preprocessing import LabelEncoder\n",
    "\n",
    "csv_file = 'sensor.csv'\n",
    "df = pd.read_csv(csv_file)\n",
    "\n",
    "column_to_encode = 'elevation'\n",
    "\n",
    "label_encoder = LabelEncoder()\n",
    "\n",
    "integer_encoded = label_encoder.fit_transform(df[column_to_encode])\n",
    "\n",
    "df[\"integer_label\"] = integer_encoded\n",
    "\n",
    "print(\"DataFrame with Label Encoded 'Types':\")\n",
    "print(df)\n"
   ]
  },
  {
   "cell_type": "code",
   "execution_count": null,
   "id": "2e4f63fb",
   "metadata": {},
   "outputs": [],
   "source": [
    "Question 4. "
   ]
  },
  {
   "cell_type": "code",
   "execution_count": 41,
   "id": "88416baa",
   "metadata": {},
   "outputs": [
    {
     "data": {
      "image/png": "[encoded data removed]",
      "text/plain": [
       "<Figure size 432x288 with 12 Axes>"
      ]
     },
     "metadata": {
      "needs_background": "light"
     },
     "output_type": "display_data"
    }
   ],
   "source": [
    "import pandas as pd\n",
    "import matplotlib.pyplot as plt\n",
    "from sklearn.preprocessing import MinMaxScaler\n",
    "\n",
    "# Replace 'your_csv_file.csv' with the path to your actual CSV file\n",
    "csv_file = 'sensor.csv'\n",
    "df = pd.read_csv(csv_file)\n",
    "\n",
    "# Select the features for min-max scaling\n",
    "df[ ['boardtype', 'boardid', 'temp_max', 'temp_min', 'temp_avg',\n",
    "                     'light_max', 'light_min', 'light_avg', 'humidity_min', \n",
    "                     'humidity_max', 'humidity_avg']].hist()\n",
    "\n",
    "\n",
    "\n",
    "plt.tight_layout()\n",
    "plt.show()\n"
   ]
  },
  {
   "cell_type": "code",
   "execution_count": 45,
   "id": "863202aa",
   "metadata": {},
   "outputs": [
    {
     "name": "stdout",
     "output_type": "stream",
     "text": [
      "boardtype         1.000000\n",
      "boardid         507.918738\n",
      "temp_max         18.522650\n",
      "temp_min         18.522650\n",
      "temp_avg         18.522650\n",
      "light_max        48.674527\n",
      "light_min        48.674527\n",
      "light_avg        48.674527\n",
      "humidity_min     49.431043\n",
      "humidity_max     49.431043\n",
      "humidity_avg     49.431043\n",
      "dtype: float64\n",
      "--------------------------------------------\n",
      "boardtype        0.000000\n",
      "boardid          2.673313\n",
      "temp_max         5.498653\n",
      "temp_min         5.498653\n",
      "temp_avg         5.498653\n",
      "light_max       43.973104\n",
      "light_min       43.973104\n",
      "light_avg       43.973104\n",
      "humidity_min    13.413514\n",
      "humidity_max    13.413514\n",
      "humidity_avg    13.413514\n",
      "dtype: float64\n"
     ]
    }
   ],
   "source": [
    "print(df[ ['boardtype', 'boardid', 'temp_max', 'temp_min', 'temp_avg',\n",
    "                     'light_max', 'light_min', 'light_avg', 'humidity_min', \n",
    "                     'humidity_max', 'humidity_avg']].mean())\n",
    "print(\"--------------------------------------------\")\n",
    "print(df[ ['boardtype', 'boardid', 'temp_max', 'temp_min', 'temp_avg',\n",
    "                     'light_max', 'light_min', 'light_avg', 'humidity_min', \n",
    "                     'humidity_max', 'humidity_avg']].std(ddof=0))\n"
   ]
  },
  {
   "cell_type": "code",
   "execution_count": 48,
   "id": "7e93e10b",
   "metadata": {},
   "outputs": [
    {
     "name": "stdout",
     "output_type": "stream",
     "text": [
      "---------------------------------\n",
      "boardtype                NaN\n",
      "boardid         9.379208e-15\n",
      "temp_max       -7.304333e-16\n",
      "temp_min       -7.304333e-16\n",
      "temp_avg       -7.304333e-16\n",
      "light_max       5.647634e-16\n",
      "light_min       5.647634e-16\n",
      "light_avg       5.647634e-16\n",
      "humidity_min   -7.358049e-17\n",
      "humidity_max   -7.358049e-17\n",
      "humidity_avg   -7.358049e-17\n",
      "dtype: float64\n",
      "std:\n",
      "---------------------------------\n",
      "boardtype       NaN\n",
      "boardid         1.0\n",
      "temp_max        1.0\n",
      "temp_min        1.0\n",
      "temp_avg        1.0\n",
      "light_max       1.0\n",
      "light_min       1.0\n",
      "light_avg       1.0\n",
      "humidity_min    1.0\n",
      "humidity_max    1.0\n",
      "humidity_avg    1.0\n",
      "dtype: float64\n"
     ]
    },
    {
     "data": {
      "image/png": "[encoded data removed]",
      "text/plain": [
       "<Figure size 432x288 with 12 Axes>"
      ]
     },
     "metadata": {
      "needs_background": "light"
     },
     "output_type": "display_data"
    }
   ],
   "source": [
    "df[ ['boardtype', 'boardid', 'temp_max', 'temp_min', 'temp_avg',\n",
    "                     'light_max', 'light_min', 'light_avg', 'humidity_min', \n",
    "                     'humidity_max', 'humidity_avg']]= (df[ ['boardtype', 'boardid', 'temp_max', 'temp_min', 'temp_avg',\n",
    "                     'light_max', 'light_min', 'light_avg', 'humidity_min', \n",
    "                     'humidity_max', 'humidity_avg']]-df[ ['boardtype', 'boardid', 'temp_max', 'temp_min', 'temp_avg',\n",
    "                     'light_max', 'light_min', 'light_avg', 'humidity_min', \n",
    "                     'humidity_max', 'humidity_avg']].mean())/df[ ['boardtype', 'boardid', 'temp_max', 'temp_min', 'temp_avg',\n",
    "                     'light_max', 'light_min', 'light_avg', 'humidity_min', \n",
    "                     'humidity_max', 'humidity_avg']].std(ddof=0)\n",
    "\n",
    "print(\"---------------------------------\")\n",
    "print(df[ ['boardtype', 'boardid', 'temp_max', 'temp_min', 'temp_avg',\n",
    "                     'light_max', 'light_min', 'light_avg', 'humidity_min', \n",
    "                     'humidity_max', 'humidity_avg']].mean())\n",
    "\n",
    "print(\"std:\")\n",
    "print(\"---------------------------------\")\n",
    "\n",
    "print(df[ ['boardtype', 'boardid', 'temp_max', 'temp_min', 'temp_avg',\n",
    "                     'light_max', 'light_min', 'light_avg', 'humidity_min', \n",
    "                     'humidity_max', 'humidity_avg']].std(ddof=0))\n",
    "\n",
    "df[ ['boardtype', 'boardid', 'temp_max', 'temp_min', 'temp_avg',\n",
    "                     'light_max', 'light_min', 'light_avg', 'humidity_min', \n",
    "                     'humidity_max', 'humidity_avg']].hist()\n",
    "\n",
    "plt.tight_layout()\n",
    "plt.show()\n"
   ]
  },
  {
   "cell_type": "code",
   "execution_count": 5,
   "id": "44773c67",
   "metadata": {},
   "outputs": [
    {
     "name": "stdout",
     "output_type": "stream",
     "text": [
      "Index(['31T12:20:00+10:00', '0013a20040b3155c', '1', '506', '11.9', '11.9.1',\n",
      "       '11.9.2', '8.2', '8.2.1', '8.2.2', '39.6', '39.6.1', '39.6.2', 'ENV',\n",
      "       '-37.8203537', '144.9404816', '0.71', 'Docklands Library',\n",
      "       '506-20150531022000', 'Unnamed: 19', '-37.8203537, 144.9404816'],\n",
      "      dtype='object')\n"
     ]
    }
   ],
   "source": [
    "import pandas as pd\n",
    "import matplotlib.pyplot as plt\n",
    "from sklearn.preprocessing import MinMaxScaler\n",
    "\n",
    "# Load the CSV file\n",
    "csv_file = 'sensor.csv'\n",
    "df = pd.read_csv(csv_file)\n",
    "\n",
    "print(df.columns)\n"
   ]
  },
  {
   "cell_type": "code",
   "execution_count": 4,
   "id": "ea9c2d41",
   "metadata": {},
   "outputs": [
    {
     "data": {
      "image/png": "[encoded data removed]",
      "text/plain": [
       "<Figure size 432x288 with 12 Axes>"
      ]
     },
     "metadata": {
      "needs_background": "light"
     },
     "output_type": "display_data"
    },
    {
     "name": "stdout",
     "output_type": "stream",
     "text": [
      "Mean after scaling:\n",
      "boardtype       0.000000\n",
      "boardid         0.691894\n",
      "temp_max        0.349347\n",
      "temp_min        0.349347\n",
      "temp_avg        0.349347\n",
      "light_max       0.493200\n",
      "light_min       0.493200\n",
      "light_avg       0.493200\n",
      "humidity_min    0.583453\n",
      "humidity_max    0.583453\n",
      "humidity_avg    0.583453\n",
      "dtype: float64\n",
      "---------------------------\n",
      "Standard Deviation after scaling:\n",
      "boardtype       0.000000\n",
      "boardid         0.267338\n",
      "temp_max        0.134113\n",
      "temp_min        0.134113\n",
      "temp_avg        0.134113\n",
      "light_max       0.445526\n",
      "light_min       0.445526\n",
      "light_avg       0.445526\n",
      "humidity_min    0.105290\n",
      "humidity_max    0.105290\n",
      "humidity_avg    0.105290\n",
      "dtype: float64\n"
     ]
    },
    {
     "data": {
      "image/png": "[encoded data removed]",
      "text/plain": [
       "<Figure size 432x288 with 12 Axes>"
      ]
     },
     "metadata": {
      "needs_background": "light"
     },
     "output_type": "display_data"
    }
   ],
   "source": [
    "import pandas as pd\n",
    "import matplotlib.pyplot as plt\n",
    "from sklearn.preprocessing import MinMaxScaler\n",
    "\n",
    "csv_file = 'sensor.csv'\n",
    "df = pd.read_csv(csv_file)\n",
    "\n",
    "# delete unnecessary columns \n",
    "columns_to_drop = ['31T12:20:00+10:00', '0013a20040b3155c', '506-20150531022000', 'Unnamed: 19']\n",
    "df = df.drop(columns=columns_to_drop)\n",
    "\n",
    "# Rename columns \n",
    "column_mapping = {\n",
    "    '1': 'boardtype', '506': 'boardid', '11.9': 'temp_max', '11.9.1': 'temp_min',\n",
    "    '11.9.2': 'temp_avg', '8.2': 'light_max', '8.2.1': 'light_min', '8.2.2': 'light_avg',\n",
    "    '39.6': 'humidity_min', '39.6.1': 'humidity_max', '39.6.2': 'humidity_avg',\n",
    "    'ENV': 'environment', '-37.8203537': 'latitude', '144.9404816': 'longitude',\n",
    "    '0.71': 'accuracy', 'Docklands Library': 'location', '-37.8203537, 144.9404816': 'coordinates'\n",
    "}\n",
    "df = df.rename(columns=column_mapping)\n",
    "\n",
    "selected_columns = ['boardtype', 'boardid', 'temp_max', 'temp_min', 'temp_avg',\n",
    "                    'light_max', 'light_min', 'light_avg', 'humidity_min', \n",
    "                    'humidity_max', 'humidity_avg']\n",
    "\n",
    "\n",
    "df[selected_columns].hist()\n",
    "plt.tight_layout()\n",
    "plt.show()\n",
    "\n",
    "scaler = MinMaxScaler()\n",
    "df[selected_columns] = scaler.fit_transform(df[selected_columns])\n",
    "\n",
    "\n",
    "print(\"Mean after scaling:\")\n",
    "print(df[selected_columns].mean())\n",
    "print(\"---------------------------\")\n",
    "print(\"Standard Deviation after scaling:\")\n",
    "print(df[selected_columns].std(ddof=0))\n",
    "\n",
    "df[selected_columns].hist()\n",
    "plt.tight_layout()\n",
    "plt.show()\n"
   ]
  },
  {
   "cell_type": "code",
   "execution_count": null,
   "id": "66bfe3af",
   "metadata": {},
   "outputs": [],
   "source": []
  }
 ],
 "metadata": {
  "kernelspec": {
   "display_name": "Python 3",
   "language": "python",
   "name": "python3"
  },
  "language_info": {
   "codemirror_mode": {
    "name": "ipython",
    "version": 3
   },
   "file_extension": ".py",
   "mimetype": "text/x-python",
   "name": "python",
   "nbconvert_exporter": "python",
   "pygments_lexer": "ipython3",
   "version": "3.8.8"
  }
 },
 "nbformat": 4,
 "nbformat_minor": 5
}
