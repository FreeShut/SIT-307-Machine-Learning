{
 "cells": [
  {
   "cell_type": "code",
   "execution_count": null,
   "id": "3f5a5338",
   "metadata": {},
   "outputs": [],
   "source": [
    "Q1"
   ]
  },
  {
   "cell_type": "code",
   "execution_count": 9,
   "id": "6ee355ca",
   "metadata": {},
   "outputs": [
    {
     "name": "stdout",
     "output_type": "stream",
     "text": [
      "AdaBoost Model Performance:\n",
      "Accuracy: 1.0\n",
      "Confusion Matrix:\n",
      " [[6 0]\n",
      " [0 5]]\n",
      "Classification Report:\n",
      "               precision    recall  f1-score   support\n",
      "\n",
      "           0       1.00      1.00      1.00         6\n",
      "           1       1.00      1.00      1.00         5\n",
      "\n",
      "    accuracy                           1.00        11\n",
      "   macro avg       1.00      1.00      1.00        11\n",
      "weighted avg       1.00      1.00      1.00        11\n",
      "\n",
      "\n",
      "RandomForest Model Performance:\n",
      "Accuracy: 0.9090909090909091\n",
      "Confusion Matrix:\n",
      " [[6 0]\n",
      " [1 4]]\n",
      "Classification Report:\n",
      "               precision    recall  f1-score   support\n",
      "\n",
      "           0       0.86      1.00      0.92         6\n",
      "           1       1.00      0.80      0.89         5\n",
      "\n",
      "    accuracy                           0.91        11\n",
      "   macro avg       0.93      0.90      0.91        11\n",
      "weighted avg       0.92      0.91      0.91        11\n",
      "\n"
     ]
    }
   ],
   "source": [
    "import pandas as pd\n",
    "from sklearn.model_selection import train_test_split\n",
    "from sklearn.ensemble import AdaBoostClassifier, RandomForestClassifier\n",
    "from sklearn.metrics import accuracy_score, confusion_matrix, classification_report\n",
    "\n",
    "data = pd.read_csv(\"data_9.csv\")\n",
    "\n",
    "X = data.drop(\"Result\", axis=1)\n",
    "y = data[\"Result\"]\n",
    "\n",
    "X_train, X_test, y_train, y_test = train_test_split(X, y, test_size=0.6, random_state=42)\n",
    "\n",
    "ada_classifier = AdaBoostClassifier(random_state=42)\n",
    "ada_classifier.fit(X_train, y_train)\n",
    "y_pred_ada = ada_classifier.predict(X_test)\n",
    "\n",
    "accuracy_ada = accuracy_score(y_test, y_pred_ada)\n",
    "conf_matrix_ada = confusion_matrix(y_test, y_pred_ada)\n",
    "class_report_ada = classification_report(y_test, y_pred_ada)\n",
    "\n",
    "print(\"AdaBoost Model Performance:\")\n",
    "print(\"Accuracy:\", accuracy_ada)\n",
    "print(\"Confusion Matrix:\\n\", conf_matrix_ada)\n",
    "print(\"Classification Report:\\n\", class_report_ada)\n",
    "\n",
    "rf_classifier = RandomForestClassifier(random_state=42)\n",
    "rf_classifier.fit(X_train, y_train)\n",
    "y_pred_rf = rf_classifier.predict(X_test)\n",
    "\n",
    "accuracy_rf = accuracy_score(y_test, y_pred_rf)\n",
    "conf_matrix_rf = confusion_matrix(y_test, y_pred_rf)\n",
    "class_report_rf = classification_report(y_test, y_pred_rf)\n",
    "\n",
    "print(\"\\nRandomForest Model Performance:\")\n",
    "print(\"Accuracy:\", accuracy_rf)\n",
    "print(\"Confusion Matrix:\\n\", conf_matrix_rf)\n",
    "print(\"Classification Report:\\n\", class_report_rf)\n"
   ]
  },
  {
   "cell_type": "code",
   "execution_count": 4,
   "id": "af7fdb02",
   "metadata": {},
   "outputs": [
    {
     "ename": "NameError",
     "evalue": "name 'Q2' is not defined",
     "output_type": "error",
     "traceback": [
      "\u001b[1;31m---------------------------------------------------------------------------\u001b[0m",
      "\u001b[1;31mNameError\u001b[0m                                 Traceback (most recent call last)",
      "\u001b[1;32m<ipython-input-4-88f1e5a216b7>\u001b[0m in \u001b[0;36m<module>\u001b[1;34m\u001b[0m\n\u001b[1;32m----> 1\u001b[1;33m \u001b[0mQ2\u001b[0m\u001b[1;33m\u001b[0m\u001b[1;33m\u001b[0m\u001b[0m\n\u001b[0m",
      "\u001b[1;31mNameError\u001b[0m: name 'Q2' is not defined"
     ]
    }
   ],
   "source": [
    "Q2"
   ]
  },
  {
   "cell_type": "code",
   "execution_count": 11,
   "id": "18c19605",
   "metadata": {},
   "outputs": [
    {
     "data": {
      "image/png": "[encoded data removed]",
      "text/plain": [
       "<Figure size 432x288 with 1 Axes>"
      ]
     },
     "metadata": {
      "needs_background": "light"
     },
     "output_type": "display_data"
    }
   ],
   "source": [
    "from sklearn.model_selection import GridSearchCV\n",
    "import matplotlib.pyplot as plt\n",
    "\n",
    "param_grid = {\n",
    "    'n_estimators': [10, 50, 100, 150, 200],\n",
    "    'learning_rate': [0.001, 0.01, 0.1, 0.5, 1]\n",
    "}\n",
    "\n",
    "grid_search = GridSearchCV(AdaBoostClassifier(random_state=42),\n",
    "                           param_grid,\n",
    "                           cv=3,\n",
    "                           scoring='accuracy',\n",
    "                           return_train_score=True)\n",
    "\n",
    "grid_search.fit(X_train, y_train)\n",
    "y_pred_optimized = grid_search.predict(X_test)\n",
    "\n",
    "mean_test_scores = grid_search.cv_results_['mean_test_score']\n",
    "plt.plot(range(len(mean_test_scores)), mean_test_scores)\n",
    "plt.xlabel('Hyperparameter Configuration')\n",
    "plt.ylabel('Mean Test Score')\n",
    "plt.title('Performance During Hyperparameter Tuning')\n",
    "plt.show()\n"
   ]
  },
  {
   "cell_type": "code",
   "execution_count": null,
   "id": "7a99c0a9",
   "metadata": {},
   "outputs": [],
   "source": []
  }
 ],
 "metadata": {
  "kernelspec": {
   "display_name": "Python 3",
   "language": "python",
   "name": "python3"
  },
  "language_info": {
   "codemirror_mode": {
    "name": "ipython",
    "version": 3
   },
   "file_extension": ".py",
   "mimetype": "text/x-python",
   "name": "python",
   "nbconvert_exporter": "python",
   "pygments_lexer": "ipython3",
   "version": "3.8.8"
  }
 },
 "nbformat": 4,
 "nbformat_minor": 5
}
