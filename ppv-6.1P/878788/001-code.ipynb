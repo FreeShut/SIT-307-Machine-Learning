{
 "cells": [
  {
   "cell_type": "code",
   "execution_count": 3,
   "id": "d5d61fcd",
   "metadata": {},
   "outputs": [
    {
     "name": "stdout",
     "output_type": "stream",
     "text": [
      "      Precip Type  Temperature (C)  Apparent Temperature (C)  Humidity  \\\n",
      "0            rain         9.472222                  7.388889      0.89   \n",
      "1            rain         9.355556                  7.227778      0.86   \n",
      "2            rain         9.377778                  9.377778      0.89   \n",
      "3            rain         8.288889                  5.944444      0.83   \n",
      "4            rain         8.755556                  6.977778      0.83   \n",
      "...           ...              ...                       ...       ...   \n",
      "96448        rain        26.016667                 26.016667      0.43   \n",
      "96449        rain        24.583333                 24.583333      0.48   \n",
      "96450        rain        22.038889                 22.038889      0.56   \n",
      "96451        rain        21.522222                 21.522222      0.60   \n",
      "96452        rain        20.438889                 20.438889      0.61   \n",
      "\n",
      "       Wind Speed (km/h)  Wind Bearing (degrees)  Visibility (km)  \\\n",
      "0                14.1197                     251          15.8263   \n",
      "1                14.2646                     259          15.8263   \n",
      "2                 3.9284                     204          14.9569   \n",
      "3                14.1036                     269          15.8263   \n",
      "4                11.0446                     259          15.8263   \n",
      "...                  ...                     ...              ...   \n",
      "96448            10.9963                      31          16.1000   \n",
      "96449            10.0947                      20          15.5526   \n",
      "96450             8.9838                      30          16.1000   \n",
      "96451            10.5294                      20          16.1000   \n",
      "96452             5.8765                      39          15.5204   \n",
      "\n",
      "       Pressure (millibars)  \n",
      "0                   1015.13  \n",
      "1                   1015.63  \n",
      "2                   1015.94  \n",
      "3                   1016.41  \n",
      "4                   1016.51  \n",
      "...                     ...  \n",
      "96448               1014.36  \n",
      "96449               1015.16  \n",
      "96450               1015.66  \n",
      "96451               1015.95  \n",
      "96452               1016.16  \n",
      "\n",
      "[96453 rows x 8 columns]\n"
     ]
    }
   ],
   "source": [
    "import pandas as pd\n",
    "\n",
    "\n",
    "data = pd.read_csv('data_6.csv')\n",
    "\n",
    "print(data)\n"
   ]
  },
  {
   "cell_type": "code",
   "execution_count": 4,
   "id": "bd283f38",
   "metadata": {},
   "outputs": [
    {
     "ename": "NameError",
     "evalue": "name 'Q1' is not defined",
     "output_type": "error",
     "traceback": [
      "\u001b[1;31m---------------------------------------------------------------------------\u001b[0m",
      "\u001b[1;31mNameError\u001b[0m                                 Traceback (most recent call last)",
      "\u001b[1;32m<ipython-input-4-3aedca9307d5>\u001b[0m in \u001b[0;36m<module>\u001b[1;34m\u001b[0m\n\u001b[1;32m----> 1\u001b[1;33m \u001b[0mQ1\u001b[0m\u001b[1;33m\u001b[0m\u001b[1;33m\u001b[0m\u001b[0m\n\u001b[0m",
      "\u001b[1;31mNameError\u001b[0m: name 'Q1' is not defined"
     ]
    }
   ],
   "source": [
    "Q1"
   ]
  },
  {
   "cell_type": "code",
   "execution_count": 15,
   "id": "c4bb2ee9",
   "metadata": {},
   "outputs": [
    {
     "name": "stdout",
     "output_type": "stream",
     "text": [
      "[28.67149701  8.41144398 13.50844648 ... 18.72981224 12.61623971\n",
      " 11.97186428]\n",
      "1.1591182896343202\n",
      "0.8486542196958874\n",
      "0.9898913388357481\n"
     ]
    }
   ],
   "source": [
    "import numpy as np\n",
    "import pandas as pd\n",
    "from sklearn.linear_model import LinearRegression\n",
    "from sklearn.model_selection import train_test_split\n",
    "\n",
    "#task 1\n",
    "\n",
    "data = pd.read_csv('data_6.csv')\n",
    "X = data.drop(columns=['Apparent Temperature (C)', 'Precip Type'])\n",
    "y = data['Apparent Temperature (C)']\n",
    "X_train, X_test, y_train, y_test = train_test_split(X, y, test_size=0.3, random_state=42)\n",
    "\n",
    "lr = LinearRegression()\n",
    "lr.fit(X_train, y_train)\n",
    "\n",
    "y_pred = lr.predict(X_test)\n",
    "mse = np.mean((y_test - y_pred)**2)\n",
    "mae = np.mean(np.abs(y_test - y_pred))\n",
    "r2 = 1 - (np.sum((y_test - y_pred)**2) / np.sum((y_test - np.mean(y_test))**2))\n",
    "\n",
    "print(y_pred)\n",
    "print(mse)\n",
    "print(mae)\n",
    "print(r2)"
   ]
  },
  {
   "cell_type": "code",
   "execution_count": 6,
   "id": "f8aa02fc",
   "metadata": {},
   "outputs": [
    {
     "ename": "NameError",
     "evalue": "name 'Q2' is not defined",
     "output_type": "error",
     "traceback": [
      "\u001b[1;31m---------------------------------------------------------------------------\u001b[0m",
      "\u001b[1;31mNameError\u001b[0m                                 Traceback (most recent call last)",
      "\u001b[1;32m<ipython-input-6-88f1e5a216b7>\u001b[0m in \u001b[0;36m<module>\u001b[1;34m\u001b[0m\n\u001b[1;32m----> 1\u001b[1;33m \u001b[0mQ2\u001b[0m\u001b[1;33m\u001b[0m\u001b[1;33m\u001b[0m\u001b[0m\n\u001b[0m",
      "\u001b[1;31mNameError\u001b[0m: name 'Q2' is not defined"
     ]
    }
   ],
   "source": [
    "Q2"
   ]
  },
  {
   "cell_type": "code",
   "execution_count": 13,
   "id": "44b5d1b8",
   "metadata": {},
   "outputs": [
    {
     "name": "stdout",
     "output_type": "stream",
     "text": [
      "[28.11593266 10.55682203 13.45670164 ... 16.89509812  9.18825337\n",
      " 11.09595931]\n",
      "16.082606447390095\n",
      "3.125107766648557\n",
      "0.8597437201461405\n"
     ]
    }
   ],
   "source": [
    "from sklearn import preprocessing\n",
    "\n",
    "#task 2\n",
    "\n",
    "scaler = preprocessing.StandardScaler()\n",
    "X_scaled = scaler.fit_transform(X)\n",
    "\n",
    "cov_matrix = np.cov(X_scaled.T)\n",
    "eigenvalues, eigenvectors = np.linalg.eig(cov_matrix)\n",
    "X_pca = X_scaled.dot(eigenvectors[:, :3])\n",
    "\n",
    "X_train_pca, X_test_pca, y_train_pca, y_test_pca = train_test_split(X_pca, y, test_size=0.3, random_state=42)\n",
    "\n",
    "lr_pca = LinearRegression()\n",
    "lr_pca.fit(X_train_pca, y_train_pca)\n",
    "\n",
    "y_pred_pca = lr_pca.predict(X_test_pca)\n",
    "mse_pca = np.mean((y_test_pca - y_pred_pca)**2)\n",
    "mae_pca = np.mean(np.abs(y_test_pca - y_pred_pca))\n",
    "r2_pca = 1 - (np.sum((y_test_pca - y_pred_pca)**2) / np.sum((y_test_pca - np.mean(y_test_pca))**2))\n",
    "\n",
    "print(y_pred_pca)\n",
    "print(mse_pca)\n",
    "print(mae_pca)\n",
    "print(r2_pca)"
   ]
  },
  {
   "cell_type": "code",
   "execution_count": 21,
   "id": "970b7fb3",
   "metadata": {},
   "outputs": [
    {
     "data": {
      "image/png": "[encoded data removed]",
      "text/plain": [
       "<Figure size 432x288 with 1 Axes>"
      ]
     },
     "metadata": {
      "needs_background": "light"
     },
     "output_type": "display_data"
    }
   ],
   "source": [
    "import matplotlib.pyplot as plt\n",
    "\n",
    "labels = ['MSE', 'MAE', 'R^2']\n",
    "metrics_task1 = [mse_task1, mae_task1, r2_task1]\n",
    "metrics_task2 = [mse_task2, mae_task2, r2_task2]\n",
    "bar_width = 0.35\n",
    "index = np.arange(len(labels))\n",
    "fig, ax = plt.subplots()\n",
    "bar1 = ax.bar(index, metrics_task1, bar_width, label='Task 1', alpha=0.8, color='b')\n",
    "bar2 = ax.bar(index + bar_width, metrics_task2, bar_width, label='Task 2 (PCA)', alpha=0.8, color='r')\n",
    "ax.set_xlabel('Metrics')\n",
    "ax.set_ylabel('Values')\n",
    "ax.set_title('Q1 vs Q2 (PCA)')\n",
    "ax.set_xticks(index + bar_width / 2)\n",
    "ax.set_xticklabels(labels)\n",
    "ax.legend()\n",
    "plt.tight_layout()\n",
    "plt.show()\n"
   ]
  },
  {
   "cell_type": "code",
   "execution_count": 8,
   "id": "4ea146cb",
   "metadata": {},
   "outputs": [
    {
     "ename": "NameError",
     "evalue": "name 'Q3' is not defined",
     "output_type": "error",
     "traceback": [
      "\u001b[1;31m---------------------------------------------------------------------------\u001b[0m",
      "\u001b[1;31mNameError\u001b[0m                                 Traceback (most recent call last)",
      "\u001b[1;32m<ipython-input-8-c8fbf85e14c2>\u001b[0m in \u001b[0;36m<module>\u001b[1;34m\u001b[0m\n\u001b[1;32m----> 1\u001b[1;33m \u001b[0mQ3\u001b[0m\u001b[1;33m\u001b[0m\u001b[1;33m\u001b[0m\u001b[0m\n\u001b[0m",
      "\u001b[1;31mNameError\u001b[0m: name 'Q3' is not defined"
     ]
    }
   ],
   "source": [
    "Q3"
   ]
  },
  {
   "cell_type": "code",
   "execution_count": 24,
   "id": "b9921657",
   "metadata": {},
   "outputs": [
    {
     "data": {
      "text/plain": [
       "(0.9478158695051148,\n",
       " 0.9610938280139801,\n",
       " 0.9805258414638924,\n",
       " 0.9707125955234882)"
      ]
     },
     "execution_count": 24,
     "metadata": {},
     "output_type": "execute_result"
    }
   ],
   "source": [
    "import numpy as np\n",
    "import pandas as pd\n",
    "from sklearn.linear_model import LogisticRegression\n",
    "from sklearn.metrics import accuracy_score, precision_score, recall_score, f1_score\n",
    "from sklearn.model_selection import train_test_split\n",
    "from sklearn import preprocessing\n",
    "\n",
    "# Task 3\n",
    "\n",
    "data = pd.read_csv('data_6.csv')\n",
    "\n",
    "X = data[['Temperature (C)', 'Humidity', 'Wind Speed (km/h)', 'Wind Bearing (degrees)', 'Visibility (km)', 'Pressure (millibars)']]\n",
    "y = data['Precip Type'].apply(lambda x: 1 if x == 'rain' else 0)  # Convert 'rain' to 1 and 'snow' to 0\n",
    "\n",
    "scaler = preprocessing.StandardScaler()\n",
    "X_scaled = scaler.fit_transform(X)\n",
    "cov_matrix = np.cov(X_scaled.T)\n",
    "eigenvalues, eigenvectors = np.linalg.eig(cov_matrix)\n",
    "X_pca = X_scaled.dot(eigenvectors[:, :3])\n",
    "\n",
    "X_train_pca, X_test_pca, y_train, y_test = train_test_split(X_pca, y, test_size=0.3, random_state=42)\n",
    "\n",
    "\n",
    "logistic_model = LogisticRegression()\n",
    "logistic_model.fit(X_train_pca, y_train)\n",
    "y_pred = logistic_model.predict(X_test_pca)\n",
    "\n",
    "accuracy = accuracy_score(y_test, y_pred)\n",
    "precision = precision_score(y_test, y_pred)\n",
    "recall = recall_score(y_test, y_pred)\n",
    "f1 = f1_score(y_test, y_pred)\n",
    "\n",
    "accuracy, precision, recall, f1\n"
   ]
  },
  {
   "cell_type": "code",
   "execution_count": null,
   "id": "15a6be3a",
   "metadata": {},
   "outputs": [],
   "source": [
    "Q4"
   ]
  },
  {
   "cell_type": "code",
   "execution_count": 25,
   "id": "84cebfb1",
   "metadata": {},
   "outputs": [
    {
     "data": {
      "text/plain": [
       "(0.9478504285319326,\n",
       " 0.9611307420494699,\n",
       " 0.9805258414638924,\n",
       " 0.9707314234730492)"
      ]
     },
     "execution_count": 25,
     "metadata": {},
     "output_type": "execute_result"
    }
   ],
   "source": [
    "# Task 4\n",
    "lasso_logistic_model = LogisticRegression(penalty='l1', solver='liblinear')  # L1 requires liblinear solver\n",
    "lasso_logistic_model.fit(X_train_pca, y_train)\n",
    "y_pred_lasso = lasso_logistic_model.predict(X_test_pca)\n",
    "\n",
    "accuracy_lasso = accuracy_score(y_test, y_pred_lasso)\n",
    "precision_lasso = precision_score(y_test, y_pred_lasso)\n",
    "recall_lasso = recall_score(y_test, y_pred_lasso)\n",
    "f1_lasso = f1_score(y_test, y_pred_lasso)\n",
    "\n",
    "accuracy_lasso, precision_lasso, recall_lasso, f1_lasso\n"
   ]
  },
  {
   "cell_type": "code",
   "execution_count": 28,
   "id": "0be6d197",
   "metadata": {},
   "outputs": [
    {
     "data": {
      "image/png": "[encoded data removed]",
      "text/plain": [
       "<Figure size 720x432 with 1 Axes>"
      ]
     },
     "metadata": {
      "needs_background": "light"
     },
     "output_type": "display_data"
    }
   ],
   "source": [
    "import matplotlib.pyplot as plt\n",
    "\n",
    "C_values = np.logspace(-4, 4, 20) \n",
    "accuracies = []\n",
    "\n",
    "for C in C_values:\n",
    "    lasso_logistic = LogisticRegression(penalty='l1', solver='liblinear', C=C)\n",
    "    lasso_logistic.fit(X_train_pca, y_train)\n",
    "    y_pred_temp = lasso_logistic.predict(X_test_pca)\n",
    "    acc = accuracy_score(y_test, y_pred_temp)\n",
    "    accuracies.append(acc)\n",
    "\n",
    "plt.figure(figsize=(10, 6))\n",
    "plt.semilogx(C_values, accuracies, marker='o', linestyle='-', color='b')\n",
    "plt.title('Performance comparison: Q3 vs Q4')\n",
    "plt.xlabel('Inverse of Regularization Strength')\n",
    "plt.ylabel('Accuracy')\n",
    "plt.grid(True, which=\"both\", ls=\"--\")\n",
    "plt.tight_layout()\n",
    "plt.show()\n"
   ]
  },
  {
   "cell_type": "code",
   "execution_count": 29,
   "id": "e32a2285",
   "metadata": {},
   "outputs": [
    {
     "data": {
      "image/png": "[encoded data removed]",
      "text/plain": [
       "<Figure size 720x432 with 1 Axes>"
      ]
     },
     "metadata": {
      "needs_background": "light"
     },
     "output_type": "display_data"
    }
   ],
   "source": [
    "import matplotlib.pyplot as plt\n",
    "\n",
    "labels = ['Accuracy', 'Precision', 'Recall', 'F1 Score']\n",
    "\n",
    "metrics_task3 = [accuracy, precision, recall, f1]\n",
    "metrics_task4 = [accuracy_lasso, precision_lasso, recall_lasso, f1_lasso]\n",
    "\n",
    "bar_width = 0.35\n",
    "index = np.arange(len(labels))\n",
    "fig, ax = plt.subplots(figsize=(10, 6))\n",
    "\n",
    "bar1 = ax.bar(index, metrics_task3, bar_width, label='Task 3', alpha=0.8, color='b')\n",
    "bar2 = ax.bar(index + bar_width, metrics_task4, bar_width, label='Task 4 (L1 Regularization)', alpha=0.8, color='r')\n",
    "\n",
    "ax.set_xlabel('Metrics')\n",
    "ax.set_ylabel('Values')\n",
    "ax.set_title('Performance comparison: Task3 vs Task4')\n",
    "ax.set_xticks(index + bar_width / 2)\n",
    "ax.set_xticklabels(labels)\n",
    "ax.legend()\n",
    "\n",
    "plt.tight_layout()\n",
    "plt.show()\n"
   ]
  },
  {
   "cell_type": "code",
   "execution_count": null,
   "id": "20b746d1",
   "metadata": {},
   "outputs": [],
   "source": []
  }
 ],
 "metadata": {
  "kernelspec": {
   "display_name": "Python 3",
   "language": "python",
   "name": "python3"
  },
  "language_info": {
   "codemirror_mode": {
    "name": "ipython",
    "version": 3
   },
   "file_extension": ".py",
   "mimetype": "text/x-python",
   "name": "python",
   "nbconvert_exporter": "python",
   "pygments_lexer": "ipython3",
   "version": "3.8.8"
  }
 },
 "nbformat": 4,
 "nbformat_minor": 5
}
