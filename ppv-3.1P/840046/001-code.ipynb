{
 "cells": [
  {
   "cell_type": "code",
   "execution_count": null,
   "id": "8f232529",
   "metadata": {},
   "outputs": [],
   "source": [
    "Q.1"
   ]
  },
  {
   "cell_type": "code",
   "execution_count": 21,
   "id": "f0425bea",
   "metadata": {},
   "outputs": [
    {
     "name": "stdout",
     "output_type": "stream",
     "text": [
      "<class 'pandas.core.frame.DataFrame'>\n",
      "RangeIndex: 7050 entries, 0 to 7049\n",
      "Data columns (total 13 columns):\n",
      " #   Column            Non-Null Count  Dtype  \n",
      "---  ------            --------------  -----  \n",
      " 0   status_id         7050 non-null   int64  \n",
      " 1   status_type       7050 non-null   object \n",
      " 2   status_published  7050 non-null   object \n",
      " 3   num_reactions     7050 non-null   int64  \n",
      " 4   num_comments      7050 non-null   int64  \n",
      " 5   num_shares        7050 non-null   int64  \n",
      " 6   num_likes         7050 non-null   int64  \n",
      " 7   num_loves         7050 non-null   int64  \n",
      " 8   num_wows          7050 non-null   int64  \n",
      " 9   num_hahas         7050 non-null   int64  \n",
      " 10  num_sads          7050 non-null   int64  \n",
      " 11  num_angrys        7050 non-null   int64  \n",
      " 12  Column2           0 non-null      float64\n",
      "dtypes: float64(1), int64(10), object(2)\n",
      "memory usage: 716.1+ KB\n",
      "---------------------------------------------\n",
      "Feature 'status_id' has 0 missing entries.\n",
      "---------------------------------------------\n",
      "Feature 'status_type' has 0 missing entries.\n",
      "---------------------------------------------\n",
      "Feature 'status_published' has 0 missing entries.\n",
      "---------------------------------------------\n",
      "Feature 'num_reactions' has 0 missing entries.\n",
      "---------------------------------------------\n",
      "Feature 'num_comments' has 0 missing entries.\n",
      "---------------------------------------------\n",
      "Feature 'num_shares' has 0 missing entries.\n",
      "---------------------------------------------\n",
      "Feature 'num_likes' has 0 missing entries.\n",
      "---------------------------------------------\n",
      "Feature 'num_loves' has 0 missing entries.\n",
      "---------------------------------------------\n",
      "Feature 'num_wows' has 0 missing entries.\n",
      "---------------------------------------------\n",
      "Feature 'num_hahas' has 0 missing entries.\n",
      "---------------------------------------------\n",
      "Feature 'num_sads' has 0 missing entries.\n",
      "---------------------------------------------\n",
      "Feature 'num_angrys' has 0 missing entries.\n",
      "---------------------------------------------\n",
      "Feature 'Column2' has 7050 missing entries.\n",
      "   status_id status_type status_published  num_reactions  num_comments  \\\n",
      "0          1       video   4/22/2018 6:00            529           512   \n",
      "1          2       photo  4/21/2018 22:45            150             0   \n",
      "2          3       video   4/21/2018 6:17            227           236   \n",
      "3          4       photo   4/21/2018 2:29            111             0   \n",
      "4          5       photo   4/18/2018 3:22            213             0   \n",
      "\n",
      "   num_shares  num_likes  num_loves  num_wows  num_hahas  num_sads  num_angrys  \n",
      "0         262        432         92         3          1         1           0  \n",
      "1           0        150          0         0          0         0           0  \n",
      "2          57        204         21         1          1         0           0  \n",
      "3           0        111          0         0          0         0           0  \n",
      "4           0        204          9         0          0         0           0  \n",
      "Column deleted successfully.\n"
     ]
    }
   ],
   "source": [
    "import pandas as pd\n",
    "\n",
    "input_csv_path = 'dataset.csv'\n",
    "\n",
    "output_csv_path = 'dataset.csv'\n",
    "\n",
    "def missing_entries(dataset):\n",
    "    df = pd.read_csv(dataset)\n",
    "    df.info()\n",
    "    \n",
    "    missing_counts = df.isnull().sum()\n",
    "\n",
    "    for feature, missing_count in missing_counts.iteritems():\n",
    "        print(\"---------------------------------------------\")\n",
    "        print(f\"Feature '{feature}' has {missing_count} missing entries.\")\n",
    "\n",
    "missing_entries('dataset.csv')\n",
    "\n",
    "\n",
    "# delete the useless columns\n",
    "#column_to_delete = 'Column3'\n",
    "#column_to_delete = 'Column2'\n",
    "#column_to_delete = 'Column3'\n",
    "#column_to_delete = 'Column3'\n",
    "\n",
    "\n",
    "data = pd.read_csv(input_csv_path)\n",
    "data.drop(columns=[column_to_delete], inplace=True)\n",
    "\n",
    "print(data.head())\n",
    "\n",
    "data.to_csv(output_csv_path, index=False)\n",
    "\n",
    "print(\"Column deleted successfully.\")"
   ]
  },
  {
   "cell_type": "code",
   "execution_count": 22,
   "id": "5546af44",
   "metadata": {},
   "outputs": [
    {
     "ename": "NameError",
     "evalue": "name 'Q2' is not defined",
     "output_type": "error",
     "traceback": [
      "\u001b[1;31m---------------------------------------------------------------------------\u001b[0m",
      "\u001b[1;31mNameError\u001b[0m                                 Traceback (most recent call last)",
      "\u001b[1;32m<ipython-input-22-88f1e5a216b7>\u001b[0m in \u001b[0;36m<module>\u001b[1;34m\u001b[0m\n\u001b[1;32m----> 1\u001b[1;33m \u001b[0mQ2\u001b[0m\u001b[1;33m\u001b[0m\u001b[1;33m\u001b[0m\u001b[0m\n\u001b[0m",
      "\u001b[1;31mNameError\u001b[0m: name 'Q2' is not defined"
     ]
    }
   ],
   "source": [
    "Q2"
   ]
  },
  {
   "cell_type": "code",
   "execution_count": 39,
   "id": "8736a0d1",
   "metadata": {},
   "outputs": [
    {
     "data": {
      "image/png": "[encoded data removed]",
      "text/plain": [
       "<Figure size 432x288 with 1 Axes>"
      ]
     },
     "metadata": {
      "needs_background": "light"
     },
     "output_type": "display_data"
    }
   ],
   "source": [
    "import pandas as pd\n",
    "import matplotlib.pyplot as plt\n",
    "from sklearn.cluster import KMeans\n",
    "from sklearn.metrics import silhouette_score\n",
    "\n",
    "data = pd.read_csv('dataset.csv')\n",
    "\n",
    "feature_columns = ['status_id','num_reactions','num_comments','num_shares','num_likes','num_likes','num_loves',\n",
    "                  'num_loves','num_wows','num_hahas','num_sads','num_angrys']\n",
    "\n",
    "k_range = range(2, 20) \n",
    "\n",
    "silhouette_scores = []\n",
    "\n",
    "\n",
    "for k in k_range:\n",
    "    kmeans = KMeans(n_clusters=k, random_state=42)\n",
    "    cluster_labels = kmeans.fit_predict(data[feature_columns])\n",
    "    silhouette_avg = silhouette_score(data[feature_columns], cluster_labels)\n",
    "    silhouette_scores.append(silhouette_avg)\n",
    "\n",
    "# Plot the Silhouette Coefficient values for different k\n",
    "plt.plot(k_range, silhouette_scores, 'bo-')\n",
    "plt.xlabel('Number of Clusters (k)')\n",
    "plt.ylabel('Silhouette Coefficient')\n",
    "plt.title('Silhouette Coefficient for Optimum k')\n",
    "plt.xticks(k_range)\n",
    "plt.grid(True)\n",
    "plt.show()\n"
   ]
  },
  {
   "cell_type": "code",
   "execution_count": null,
   "id": "ecdf02ab",
   "metadata": {},
   "outputs": [],
   "source": [
    "Q3 "
   ]
  },
  {
   "cell_type": "code",
   "execution_count": 58,
   "id": "ab30a375",
   "metadata": {},
   "outputs": [
    {
     "name": "stdout",
     "output_type": "stream",
     "text": [
      "Purity (KMeans): 1.0\n",
      "Purity (KMeans++): 1.0\n"
     ]
    }
   ],
   "source": [
    "import numpy as np\n",
    "from sklearn.datasets import make_blobs\n",
    "from sklearn.cluster import KMeans\n",
    "from sklearn.metrics import pairwise_distances_argmin_min\n",
    "\n",
    "data, true_labels = make_blobs(n_samples=300, centers=3, random_state=42)\n",
    "\n",
    "# k value \n",
    "optimal_k = 2\n",
    "\n",
    "# Perform KMeans clustering with optimal k\n",
    "kmeans = KMeans(n_clusters=optimal_k, random_state=42)\n",
    "kmeans_clusters = kmeans.fit_predict(data)\n",
    "\n",
    "# Perform KMeans++ clustering with optimal k\n",
    "kmeans_plus = KMeans(n_clusters=optimal_k, init='k-means++', random_state=42)\n",
    "kmeans_plus_clusters = kmeans_plus.fit_predict(data)\n",
    "\n",
    "\n",
    "def purity(y_true, y_pred):\n",
    "    contingency_matrix = np.dot(np.transpose(y_true), y_pred)\n",
    "    return np.sum(np.amax(contingency_matrix, axis=0)) / np.sum(contingency_matrix)\n",
    "\n",
    "purity_kmeans = purity(true_labels, kmeans_clusters)\n",
    "purity_kmeans_plus = purity(true_labels, kmeans_plus_clusters)\n",
    "\n",
    "# Compare purity values\n",
    "print(\"Purity (KMeans):\", purity_kmeans)\n",
    "print(\"Purity (KMeans++):\", purity_kmeans_plus)\n"
   ]
  },
  {
   "cell_type": "code",
   "execution_count": null,
   "id": "03f1cd75",
   "metadata": {},
   "outputs": [],
   "source": [
    "Q4"
   ]
  },
  {
   "cell_type": "code",
   "execution_count": 60,
   "id": "684bb409",
   "metadata": {},
   "outputs": [
    {
     "name": "stdout",
     "output_type": "stream",
     "text": [
      "Average Silhouette Score (KMeans): 0.7049437310743717\n",
      "Silhouette Score (KMeans++): 0.7049437310743717\n"
     ]
    }
   ],
   "source": [
    "import numpy as np\n",
    "from sklearn.datasets import make_blobs\n",
    "from sklearn.cluster import KMeans\n",
    "from sklearn.metrics import silhouette_score\n",
    "\n",
    "data, true_labels = make_blobs(n_samples=300, centers=3, random_state=42)\n",
    "\n",
    "# optimal k value \n",
    "optimal_k = 2\n",
    "\n",
    "# Repeat clustering for KMeans 50 times\n",
    "num_repeats = 50\n",
    "silhouette_scores_kmeans = []\n",
    "\n",
    "for _ in range(num_repeats):\n",
    "    kmeans = KMeans(n_clusters=optimal_k, random_state=None)\n",
    "    kmeans_clusters = kmeans.fit_predict(data)\n",
    "    silhouette_avg = silhouette_score(data, kmeans_clusters)\n",
    "    silhouette_scores_kmeans.append(silhouette_avg)\n",
    "\n",
    "average_silhouette_kmeans = np.mean(silhouette_scores_kmeans)\n",
    "\n",
    "# Perform KMeans++ clustering with optimal k\n",
    "kmeans_plus = KMeans(n_clusters=optimal_k, init='k-means++', random_state=42)\n",
    "kmeans_plus_clusters = kmeans_plus.fit_predict(data)\n",
    "silhouette_kmeans_plus = silhouette_score(data, kmeans_plus_clusters)\n",
    "\n",
    "# Compare average silhouette scores\n",
    "print(\"Average Silhouette Score (KMeans):\", average_silhouette_kmeans)\n",
    "print(\"Silhouette Score (KMeans++):\", silhouette_kmeans_plus)\n"
   ]
  },
  {
   "cell_type": "code",
   "execution_count": 62,
   "id": "c61df007",
   "metadata": {},
   "outputs": [
    {
     "name": "stdout",
     "output_type": "stream",
     "text": [
      "The difference in results between KMeans and KMeans++ is due to differences in the initialization of cluster centroids. KMeans++ uses a smarter initialization strategy designed to place initial centroids more strategically, potentially leading to faster convergence and better clustering results compared to random initialization in KMeans.\n"
     ]
    }
   ],
   "source": [
    "print(\"The difference in results between KMeans and KMeans++ is due to differences in the initialization of cluster centroids. KMeans++ uses a smarter initialization strategy designed to place initial centroids more strategically, potentially leading to faster convergence and better clustering results compared to random initialization in KMeans.\")"
   ]
  },
  {
   "cell_type": "code",
   "execution_count": null,
   "id": "64de954c",
   "metadata": {},
   "outputs": [],
   "source": []
  }
 ],
 "metadata": {
  "kernelspec": {
   "display_name": "Python 3",
   "language": "python",
   "name": "python3"
  },
  "language_info": {
   "codemirror_mode": {
    "name": "ipython",
    "version": 3
   },
   "file_extension": ".py",
   "mimetype": "text/x-python",
   "name": "python",
   "nbconvert_exporter": "python",
   "pygments_lexer": "ipython3",
   "version": "3.8.8"
  }
 },
 "nbformat": 4,
 "nbformat_minor": 5
}
