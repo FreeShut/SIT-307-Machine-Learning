{
 "cells": [
  {
   "cell_type": "code",
   "execution_count": 1,
   "id": "f671bf0f",
   "metadata": {},
   "outputs": [
    {
     "ename": "NameError",
     "evalue": "name 'Q4' is not defined",
     "output_type": "error",
     "traceback": [
      "\u001b[1;31m---------------------------------------------------------------------------\u001b[0m",
      "\u001b[1;31mNameError\u001b[0m                                 Traceback (most recent call last)",
      "\u001b[1;32m<ipython-input-1-d39a3eddf3ee>\u001b[0m in \u001b[0;36m<module>\u001b[1;34m\u001b[0m\n\u001b[1;32m----> 1\u001b[1;33m \u001b[0mQ4\u001b[0m\u001b[1;33m\u001b[0m\u001b[1;33m\u001b[0m\u001b[0m\n\u001b[0m",
      "\u001b[1;31mNameError\u001b[0m: name 'Q4' is not defined"
     ]
    }
   ],
   "source": [
    "Q4"
   ]
  },
  {
   "cell_type": "code",
   "execution_count": 7,
   "id": "86f640bc",
   "metadata": {},
   "outputs": [
    {
     "name": "stdout",
     "output_type": "stream",
     "text": [
      "Decision Tree Accuracy: 0.99\n"
     ]
    },
    {
     "data": {
      "image/png": "[encoded data removed]",
      "text/plain": [
       "<Figure size 720x432 with 1 Axes>"
      ]
     },
     "metadata": {
      "needs_background": "light"
     },
     "output_type": "display_data"
    },
    {
     "name": "stdout",
     "output_type": "stream",
     "text": [
      "KNN Accuracy: 0.99\n",
      "Logistic Regression Accuracy: 0.99\n"
     ]
    }
   ],
   "source": [
    "import pandas as pd\n",
    "import numpy as np\n",
    "import matplotlib.pyplot as plt\n",
    "from sklearn.tree import DecisionTreeClassifier\n",
    "from sklearn.neighbors import KNeighborsClassifier\n",
    "from sklearn.linear_model import LogisticRegression\n",
    "from sklearn.metrics import accuracy_score\n",
    "from sklearn.preprocessing import StandardScaler, LabelEncoder\n",
    "from sklearn.model_selection import train_test_split\n",
    "\n",
    "data = pd.read_csv('aps_failure_training_set.CSV', skiprows=20, na_values=\"na\")\n",
    "\n",
    "data['class'] = LabelEncoder().fit_transform(data['class'])\n",
    "X = data.drop('class', axis=1).fillna(data.median())\n",
    "y = data['class']\n",
    "\n",
    "X_train, X_val, y_train, y_val = train_test_split(X, y, test_size=0.2, random_state=42)\n",
    "\n",
    "scaler = StandardScaler()\n",
    "X_train_scaled = scaler.fit_transform(X_train)\n",
    "X_val_scaled = scaler.transform(X_val)\n",
    "\n",
    "clf_tree = DecisionTreeClassifier(random_state=42).fit(X_train, y_train)\n",
    "y_pred_tree = clf_tree.predict(X_val)\n",
    "accuracy_tree = accuracy_score(y_val, y_pred_tree)\n",
    "print(f\"Decision Tree Accuracy: {accuracy_tree:.2f}\")\n",
    "\n",
    "importances = clf_tree.feature_importances_\n",
    "indices = np.argsort(importances)[-10:] #top 10 values\n",
    "plt.figure(figsize=(10, 6))\n",
    "plt.title('Decision Tree Feature Importances')\n",
    "plt.barh(range(len(indices)), importances[indices], align='center')\n",
    "plt.yticks(range(len(indices)), [X.columns[i] for i in indices])\n",
    "plt.show()\n",
    "\n",
    "# evaluating KNN \n",
    "clf_knn = KNeighborsClassifier(n_neighbors=5).fit(X_train_scaled, y_train)  # Set n_neighbors to 5 as an example\n",
    "y_pred_knn = clf_knn.predict(X_val_scaled)\n",
    "accuracy_knn = accuracy_score(y_val, y_pred_knn)\n",
    "print(f\"KNN Accuracy: {accuracy_knn:.2f}\")\n",
    "\n",
    "clf_logreg = LogisticRegression(max_iter=1000, random_state=42).fit(X_train_scaled, y_train)\n",
    "y_pred_logreg = clf_logreg.predict(X_val_scaled)\n",
    "accuracy_logreg = accuracy_score(y_val, y_pred_logreg)\n",
    "print(f\"Logistic Regression Accuracy: {accuracy_logreg:.2f}\")\n"
   ]
  },
  {
   "cell_type": "code",
   "execution_count": 8,
   "id": "41bd73c7",
   "metadata": {},
   "outputs": [
    {
     "ename": "NameError",
     "evalue": "name 'Q5' is not defined",
     "output_type": "error",
     "traceback": [
      "\u001b[1;31m---------------------------------------------------------------------------\u001b[0m",
      "\u001b[1;31mNameError\u001b[0m                                 Traceback (most recent call last)",
      "\u001b[1;32m<ipython-input-8-dc3d8179c084>\u001b[0m in \u001b[0;36m<module>\u001b[1;34m\u001b[0m\n\u001b[1;32m----> 1\u001b[1;33m \u001b[0mQ5\u001b[0m\u001b[1;33m\u001b[0m\u001b[1;33m\u001b[0m\u001b[0m\n\u001b[0m",
      "\u001b[1;31mNameError\u001b[0m: name 'Q5' is not defined"
     ]
    }
   ],
   "source": [
    "Q5"
   ]
  },
  {
   "cell_type": "code",
   "execution_count": null,
   "id": "46c641a6",
   "metadata": {},
   "outputs": [],
   "source": [
    "clf_rf = RandomForestClassifier(random_state=42).fit(X_train, y_train)\n",
    "y_pred_rf = clf_rf.predict(X_val)\n",
    "accuracy_rf = accuracy_score(y_val, y_pred_rf)\n",
    "print(f\"Random Forest Accuracy: {accuracy_rf:.2f}\")\n",
    "\n",
    "# Gradient Boosting\n",
    "clf_gb = GradientBoostingClassifier(random_state=42).fit(X_train, y_train)\n",
    "y_pred_gb = clf_gb.predict(X_val)\n",
    "accuracy_gb = accuracy_score(y_val, y_pred_gb)\n",
    "print(f\"Gradient Boosting Accuracy: {accuracy_gb:.2f}\")\n",
    "\n",
    "# AdaBoost\n",
    "clf_ada = AdaBoostClassifier(random_state=42).fit(X_train, y_train)\n",
    "y_pred_ada = clf_ada.predict(X_val)\n",
    "accuracy_ada = accuracy_score(y_val, y_pred_ada)\n",
    "print(f\"AdaBoost Accuracy: {accuracy_ada:.2f}\")\n",
    "\n",
    "# Bar plot\n",
    "models = ['Decision Tree', 'KNN', 'Logistic Regression', 'Random Forest', 'Gradient Boosting', 'AdaBoost']\n",
    "accuracies = [accuracy_tree, accuracy_knn, accuracy_logreg, accuracy_rf, accuracy_gb, accuracy_ada]\n",
    "plt.figure(figsize=(12, 6))\n",
    "plt.bar(models, accuracies, color=['blue', 'green', 'red', 'cyan', 'magenta', 'yellow'])\n",
    "plt.ylabel('Accuracy')\n",
    "plt.title('Model Comparison')\n",
    "plt.show()\n"
   ]
  },
  {
   "cell_type": "code",
   "execution_count": null,
   "id": "c5fad4e1",
   "metadata": {},
   "outputs": [],
   "source": [
    "improve"
   ]
  },
  {
   "cell_type": "code",
   "execution_count": null,
   "id": "844ac16b",
   "metadata": {},
   "outputs": [],
   "source": [
    "clf_rf = RandomForestClassifier(random_state=42).fit(X_train, y_train)\n",
    "y_pred_rf = clf_rf.predict(X_val)\n",
    "accuracy_rf = accuracy_score(y_val, y_pred_rf)\n",
    "print(f\"Random Forest Accuracy: {accuracy_rf:.2f}\")\n",
    "\n",
    "clf_gb = GradientBoostingClassifier(random_state=42).fit(X_train, y_train)\n",
    "y_pred_gb = clf_gb.predict(X_val)\n",
    "accuracy_gb = accuracy_score(y_val, y_pred_gb)\n",
    "print(f\"Gradient Boosting Accuracy: {accuracy_gb:.2f}\")\n",
    "\n",
    "clf_ada = AdaBoostClassifier(random_state=42).fit(X_train, y_train)\n",
    "y_pred_ada = clf_ada.predict(X_val)\n",
    "accuracy_ada = accuracy_score(y_val, y_pred_ada)\n",
    "print(f\"AdaBoost Accuracy: {accuracy_ada:.2f}\")\n",
    "\n",
    "models = ['Decision Tree', 'KNN', 'Logistic Regression', 'Random Forest', 'Gradient Boosting', 'AdaBoost']\n",
    "accuracies = [accuracy_tree, accuracy_knn, accuracy_logreg, accuracy_rf, accuracy_gb, accuracy_ada]\n",
    "plt.figure(figsize=(12, 6))\n",
    "plt.bar(models, accuracies, color=['blue', 'green', 'red', 'cyan', 'magenta', 'yellow'])\n",
    "plt.ylabel('Accuracy')\n",
    "plt.title('Model Comparison')\n",
    "plt.xticks(rotation=45) \n",
    "plt.tight_layout() \n",
    "plt.show()\n"
   ]
  },
  {
   "cell_type": "code",
   "execution_count": null,
   "id": "622eef6a",
   "metadata": {},
   "outputs": [],
   "source": []
  },
  {
   "cell_type": "code",
   "execution_count": null,
   "id": "b4b02cbc",
   "metadata": {},
   "outputs": [],
   "source": []
  }
 ],
 "metadata": {
  "kernelspec": {
   "display_name": "Python 3",
   "language": "python",
   "name": "python3"
  },
  "language_info": {
   "codemirror_mode": {
    "name": "ipython",
    "version": 3
   },
   "file_extension": ".py",
   "mimetype": "text/x-python",
   "name": "python",
   "nbconvert_exporter": "python",
   "pygments_lexer": "ipython3",
   "version": "3.8.8"
  }
 },
 "nbformat": 4,
 "nbformat_minor": 5
}
