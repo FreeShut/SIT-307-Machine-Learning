{
 "cells": [
  {
   "cell_type": "code",
   "execution_count": null,
   "id": "38cd0f54",
   "metadata": {},
   "outputs": [],
   "source": [
    "Q1.c"
   ]
  },
  {
   "cell_type": "code",
   "execution_count": 2,
   "id": "75ba7c34",
   "metadata": {},
   "outputs": [
    {
     "name": "stderr",
     "output_type": "stream",
     "text": [
      "C:\\Users\\guany\\anaconda3\\lib\\site-packages\\sklearn\\cluster\\_kmeans.py:881: UserWarning: KMeans is known to have a memory leak on Windows with MKL, when there are less chunks than available threads. You can avoid it by setting the environment variable OMP_NUM_THREADS=1.\n",
      "  warnings.warn(\n"
     ]
    },
    {
     "data": {
      "image/png": "[encoded data removed]",
      "text/plain": [
       "<Figure size 864x432 with 1 Axes>"
      ]
     },
     "metadata": {
      "needs_background": "light"
     },
     "output_type": "display_data"
    }
   ],
   "source": [
    "import pandas as pd\n",
    "from sklearn.cluster import KMeans\n",
    "import matplotlib.pyplot as plt\n",
    "\n",
    "data = pd.read_excel(\"SIT307 4.2C database.xlsx\")\n",
    "numerical_data = data.select_dtypes(['float64', 'int64'])\n",
    "numerical_data = numerical_data.fillna(numerical_data.mean())\n",
    "numerical_data = numerical_data.drop(columns=['property_id_5'])\n",
    "\n",
    "inertia = []\n",
    "K = range(1, 15)\n",
    "for k in K:\n",
    "    kmeanModel = KMeans(n_clusters=k).fit(numerical_data)\n",
    "    inertia.append(kmeanModel.inertia_)\n",
    "\n",
    "plt.figure(figsize=(12, 6))\n",
    "plt.plot(K, inertia, 'bx-')\n",
    "plt.xlabel('Number of clusters (k)')\n",
    "plt.ylabel('Sum of squared distances')\n",
    "plt.title('Elbow Method For Optimal k')\n",
    "plt.grid(True)\n",
    "plt.show()\n"
   ]
  },
  {
   "cell_type": "code",
   "execution_count": 3,
   "id": "d0d01be4",
   "metadata": {},
   "outputs": [
    {
     "ename": "NameError",
     "evalue": "name 'Q2' is not defined",
     "output_type": "error",
     "traceback": [
      "\u001b[1;31m---------------------------------------------------------------------------\u001b[0m",
      "\u001b[1;31mNameError\u001b[0m                                 Traceback (most recent call last)",
      "\u001b[1;32m<ipython-input-3-88f1e5a216b7>\u001b[0m in \u001b[0;36m<module>\u001b[1;34m\u001b[0m\n\u001b[1;32m----> 1\u001b[1;33m \u001b[0mQ2\u001b[0m\u001b[1;33m\u001b[0m\u001b[1;33m\u001b[0m\u001b[0m\n\u001b[0m",
      "\u001b[1;31mNameError\u001b[0m: name 'Q2' is not defined"
     ]
    }
   ],
   "source": [
    "Q2"
   ]
  },
  {
   "cell_type": "code",
   "execution_count": 8,
   "id": "abd04e5d",
   "metadata": {},
   "outputs": [
    {
     "name": "stdout",
     "output_type": "stream",
     "text": [
      "Agglomerative Clustering silhouette score: 0.188191746811501\n"
     ]
    }
   ],
   "source": [
    "from sklearn.cluster import AgglomerativeClustering\n",
    "from sklearn.metrics import silhouette_score\n",
    "from sklearn.preprocessing import StandardScaler\n",
    "\n",
    "data = pd.read_excel(\"SIT307 4.2C database.xlsx\")\n",
    "numerical_data = data.select_dtypes(['float64', 'int64'])\n",
    "numerical_data = numerical_data.fillna(numerical_data.mean())\n",
    "numerical_data = numerical_data.drop(columns=['property_id_5'])\n",
    "\n",
    "scaled_data = StandardScaler().fit_transform(numerical_data)\n",
    "\n",
    "agg_clustering = AgglomerativeClustering(n_clusters=5)# Assuming 5 clusters\n",
    "labels_agg = agg_clustering.fit_predict(scaled_data)\n",
    "\n",
    "silhouette_agg = silhouette_score(scaled_data, labels_agg)\n",
    "\n",
    "print(\"Agglomerative Clustering silhouette score:\", silhouette_agg)\n"
   ]
  },
  {
   "cell_type": "code",
   "execution_count": 9,
   "id": "779807e1",
   "metadata": {},
   "outputs": [
    {
     "ename": "NameError",
     "evalue": "name 'Q3' is not defined",
     "output_type": "error",
     "traceback": [
      "\u001b[1;31m---------------------------------------------------------------------------\u001b[0m",
      "\u001b[1;31mNameError\u001b[0m                                 Traceback (most recent call last)",
      "\u001b[1;32m<ipython-input-9-c8fbf85e14c2>\u001b[0m in \u001b[0;36m<module>\u001b[1;34m\u001b[0m\n\u001b[1;32m----> 1\u001b[1;33m \u001b[0mQ3\u001b[0m\u001b[1;33m\u001b[0m\u001b[1;33m\u001b[0m\u001b[0m\n\u001b[0m",
      "\u001b[1;31mNameError\u001b[0m: name 'Q3' is not defined"
     ]
    }
   ],
   "source": [
    "Q3"
   ]
  },
  {
   "cell_type": "code",
   "execution_count": 10,
   "id": "9f956857",
   "metadata": {},
   "outputs": [
    {
     "name": "stdout",
     "output_type": "stream",
     "text": [
      "The best clustering method based on silhouette score is KMeans (k=3) with a score of 0.2967.\n"
     ]
    }
   ],
   "source": [
    "from sklearn.metrics import silhouette_score\n",
    "\n",
    "silhouette_dbscan = silhouette_score(scaled_data, labels_dbscan) if n_clusters_dbscan > 1 else -1\n",
    "silhouette_kmeans_3 = silhouette_score(scaled_data, labels_kmeans_3)\n",
    "silhouette_kmeans_4 = silhouette_score(scaled_data, labels_kmeans_4)\n",
    "\n",
    "best_method = None\n",
    "best_score = -2  # Start with a value less than the minimum possible silhouette score.\n",
    "\n",
    "if silhouette_dbscan > best_score:\n",
    "    best_score = silhouette_dbscan\n",
    "    best_method = \"DBSCAN\"\n",
    "\n",
    "if silhouette_kmeans_3 > best_score:\n",
    "    best_score = silhouette_kmeans_3\n",
    "    best_method = \"KMeans (k=3)\"\n",
    "\n",
    "if silhouette_kmeans_4 > best_score:\n",
    "    best_score = silhouette_kmeans_4\n",
    "    best_method = \"KMeans (k=4)\"\n",
    "\n",
    "print(f\"The best clustering method based on silhouette score is {best_method} with a score of {best_score:.4f}.\")\n"
   ]
  },
  {
   "cell_type": "code",
   "execution_count": null,
   "id": "0c6d6b3b",
   "metadata": {},
   "outputs": [],
   "source": [
    "Q4"
   ]
  },
  {
   "cell_type": "code",
   "execution_count": 5,
   "id": "6eed656a",
   "metadata": {},
   "outputs": [
    {
     "name": "stdout",
     "output_type": "stream",
     "text": [
      "                             year_completed  clue_block  property_id_1  \\\n",
      "year_completed                 1.000000e+00   -0.375032      -0.617818   \n",
      "clue_block                    -3.750316e-01    1.000000       0.469123   \n",
      "property_id_1                 -6.178177e-01    0.469123       1.000000   \n",
      "property_id_2                 -1.062766e-02    0.008273      -0.000153   \n",
      "property_id_3                  5.511178e-16    0.039172       0.074025   \n",
      "property_id_4                 -2.211113e-15    0.011841       0.000665   \n",
      "floors_above                   3.346129e-01   -0.236508      -0.288569   \n",
      "resi_dwellings                 3.535256e-01   -0.198367      -0.279739   \n",
      "studio_dwe                     1.788796e-01   -0.065584      -0.148008   \n",
      "one_bdrm_dwe                   4.013869e-01   -0.155423      -0.257286   \n",
      "two_bdrm_dwe                   3.063816e-01   -0.139328      -0.201258   \n",
      "three_bdrm_dwe                 2.466754e-01   -0.107826      -0.162573   \n",
      "student_apartments             6.658999e-02   -0.137956      -0.067753   \n",
      "student_beds                   1.134344e-01   -0.097512      -0.137899   \n",
      "student_accommodation_units    9.342992e-02   -0.127310      -0.105895   \n",
      "institutional_accom_beds                NaN         NaN            NaN   \n",
      "hotel_rooms                   -6.245906e-02   -0.167370      -0.096568   \n",
      "serviced_apartments           -7.113097e-02    0.009349       0.079181   \n",
      "hotels_serviced_apartments    -7.915868e-02   -0.136365      -0.050724   \n",
      "hostel_beds                             NaN         NaN            NaN   \n",
      "childcare_places               1.263929e-01   -0.097133      -0.195022   \n",
      "office_flr                    -1.821899e-01    0.051011       0.142576   \n",
      "retail_flr                     1.856246e-03   -0.126914      -0.033222   \n",
      "industrial_flr                -1.837877e-01    0.304941       0.089790   \n",
      "storage_flr                   -2.612284e-02    0.010760       0.066708   \n",
      "education_flr                 -8.759579e-02    0.036267       0.066597   \n",
      "hospital_flr                   1.400087e-01   -0.041266      -0.182757   \n",
      "recreation_flr                 5.722486e-02   -0.120100      -0.044127   \n",
      "publicdispaly_flr                       NaN         NaN            NaN   \n",
      "community_flr                  1.134344e-01   -0.046900      -0.135749   \n",
      "car_spaces                     3.234746e-01   -0.081124      -0.297077   \n",
      "bike_spaces                    3.830725e-01   -0.173550      -0.402098   \n",
      "longitude                      3.108333e-01   -0.421985      -0.485299   \n",
      "latitude                      -1.926972e-01    0.153260      -0.004186   \n",
      "\n",
      "                             property_id_2  property_id_3  property_id_4  \\\n",
      "year_completed               -1.062766e-02   5.511178e-16  -2.211113e-15   \n",
      "clue_block                    8.272749e-03   3.917157e-02   1.184103e-02   \n",
      "property_id_1                -1.534978e-04   7.402480e-02   6.650695e-04   \n",
      "property_id_2                 1.000000e+00   6.143651e-01   7.933932e-01   \n",
      "property_id_3                 6.143651e-01   1.000000e+00   9.137462e-01   \n",
      "property_id_4                 7.933932e-01   9.137462e-01   1.000000e+00   \n",
      "floors_above                  1.208903e-02   3.075624e-02   1.901522e-02   \n",
      "resi_dwellings                1.568691e-02  -6.565698e-03  -5.919201e-03   \n",
      "studio_dwe                    2.298311e-01   1.234083e-01   1.817027e-01   \n",
      "one_bdrm_dwe                  1.650134e-02  -3.570818e-02  -2.945518e-02   \n",
      "two_bdrm_dwe                  1.839334e-02   1.491071e-02   9.786333e-03   \n",
      "three_bdrm_dwe               -3.713482e-02  -3.896816e-02  -3.393507e-02   \n",
      "student_apartments           -6.282636e-18   7.843193e-17   0.000000e+00   \n",
      "student_beds                 -5.571872e-18   1.224074e-16   0.000000e+00   \n",
      "student_accommodation_units  -5.791820e-18   1.046484e-16   0.000000e+00   \n",
      "institutional_accom_beds               NaN            NaN            NaN   \n",
      "hotel_rooms                  -7.285344e-18  -4.282491e-17  -1.224329e-17   \n",
      "serviced_apartments          -2.143243e-18  -3.380182e-17  -5.402698e-18   \n",
      "hotels_serviced_apartments   -1.055581e-17  -4.977280e-17  -1.432799e-17   \n",
      "hostel_beds                            NaN            NaN            NaN   \n",
      "childcare_places              4.653029e-17   8.406572e-17   0.000000e+00   \n",
      "office_flr                   -1.462843e-02  -4.493829e-17   5.257588e-18   \n",
      "retail_flr                    4.135189e-02   2.548579e-02   3.752451e-02   \n",
      "industrial_flr               -3.538358e-18  -4.068394e-17  -8.919512e-18   \n",
      "storage_flr                  -6.167051e-18  -2.871758e-17  -5.181978e-18   \n",
      "education_flr                -2.705155e-02  -2.102105e-17  -5.352585e-18   \n",
      "hospital_flr                  2.143475e-17   1.106123e-16   0.000000e+00   \n",
      "recreation_flr                3.086061e-18  -5.982862e-17   0.000000e+00   \n",
      "publicdispaly_flr                      NaN            NaN            NaN   \n",
      "community_flr                -2.194013e-01   1.259009e-16   0.000000e+00   \n",
      "car_spaces                    1.351928e-01   6.615766e-02   9.237132e-02   \n",
      "bike_spaces                   1.031501e-01   3.301291e-02   4.197932e-02   \n",
      "longitude                     1.433164e-02   7.648247e-03   2.653535e-02   \n",
      "latitude                     -2.962263e-02   1.660926e-02  -3.997621e-02   \n",
      "\n",
      "                             floors_above  resi_dwellings  studio_dwe  \\\n",
      "year_completed                   0.334613        0.353526    0.178880   \n",
      "clue_block                      -0.236508       -0.198367   -0.065584   \n",
      "property_id_1                   -0.288569       -0.279739   -0.148008   \n",
      "property_id_2                    0.012089        0.015687    0.229831   \n",
      "property_id_3                    0.030756       -0.006566    0.123408   \n",
      "property_id_4                    0.019015       -0.005919    0.181703   \n",
      "floors_above                     1.000000        0.846929    0.045072   \n",
      "resi_dwellings                   0.846929        1.000000    0.134854   \n",
      "studio_dwe                       0.045072        0.134854    1.000000   \n",
      "one_bdrm_dwe                     0.514691        0.620258    0.355246   \n",
      "two_bdrm_dwe                     0.561606        0.681248    0.043951   \n",
      "three_bdrm_dwe                   0.511503        0.524190    0.014822   \n",
      "student_apartments               0.133105       -0.070849   -0.023404   \n",
      "student_beds                     0.091005       -0.050718   -0.016543   \n",
      "student_accommodation_units      0.121350       -0.065690   -0.021598   \n",
      "institutional_accom_beds              NaN             NaN         NaN   \n",
      "hotel_rooms                     -0.019470       -0.066708   -0.026040   \n",
      "serviced_apartments              0.124880        0.090169   -0.022074   \n",
      "hotels_serviced_apartments       0.031037       -0.021600   -0.030130   \n",
      "hostel_beds                           NaN             NaN         NaN   \n",
      "childcare_places                -0.071370       -0.061852   -0.023448   \n",
      "office_flr                       0.115917       -0.130871   -0.043143   \n",
      "retail_flr                       0.404350        0.333441   -0.052019   \n",
      "industrial_flr                  -0.089513       -0.078907   -0.025738   \n",
      "storage_flr                     -0.059076       -0.059000   -0.019245   \n",
      "education_flr                   -0.057068       -0.084468   -0.027552   \n",
      "hospital_flr                    -0.070535       -0.061615   -0.021833   \n",
      "recreation_flr                   0.143527        0.009725   -0.042762   \n",
      "publicdispaly_flr                     NaN             NaN         NaN   \n",
      "community_flr                   -0.030527        0.006730   -0.016543   \n",
      "car_spaces                       0.388032        0.385624    0.339533   \n",
      "bike_spaces                      0.451991        0.380916    0.374386   \n",
      "longitude                        0.356148        0.296640    0.226376   \n",
      "latitude                        -0.171286       -0.068886   -0.102976   \n",
      "\n",
      "                             one_bdrm_dwe  ...   storage_flr  education_flr  \\\n",
      "year_completed                   0.401387  ... -2.612284e-02  -8.759579e-02   \n",
      "clue_block                      -0.155423  ...  1.076009e-02   3.626738e-02   \n",
      "property_id_1                   -0.257286  ...  6.670809e-02   6.659728e-02   \n",
      "property_id_2                    0.016501  ... -6.167051e-18  -2.705155e-02   \n",
      "property_id_3                   -0.035708  ... -2.871758e-17  -2.102105e-17   \n",
      "property_id_4                   -0.029455  ... -5.181978e-18  -5.352585e-18   \n",
      "floors_above                     0.514691  ... -5.907578e-02  -5.706843e-02   \n",
      "resi_dwellings                   0.620258  ... -5.899981e-02  -8.446848e-02   \n",
      "studio_dwe                       0.355246  ... -1.924456e-02  -2.755193e-02   \n",
      "one_bdrm_dwe                     1.000000  ... -4.862900e-02  -6.962086e-02   \n",
      "two_bdrm_dwe                     0.569218  ... -4.186052e-02  -5.993061e-02   \n",
      "three_bdrm_dwe                   0.629931  ... -2.839373e-02  -4.065056e-02   \n",
      "student_apartments              -0.059140  ... -1.418784e-02  -2.031235e-02   \n",
      "student_beds                    -0.041803  ... -1.002846e-02  -1.435748e-02   \n",
      "student_accommodation_units     -0.054577  ... -1.309294e-02  -1.874482e-02   \n",
      "institutional_accom_beds              NaN  ...           NaN            NaN   \n",
      "hotel_rooms                     -0.047988  ... -1.578552e-02  -2.259972e-02   \n",
      "serviced_apartments             -0.055778  ... -1.338118e-02  -1.915749e-02   \n",
      "hotels_serviced_apartments      -0.061245  ... -1.826484e-02  -2.614929e-02   \n",
      "hostel_beds                           NaN  ...           NaN            NaN   \n",
      "childcare_places                -0.042047  ... -1.421449e-02  -2.035051e-02   \n",
      "office_flr                      -0.107465  ... -2.564157e-02  -2.405771e-02   \n",
      "retail_flr                       0.012480  ... -4.160652e-02  -4.484324e-02   \n",
      "industrial_flr                  -0.065037  ... -1.560244e-02  -2.233760e-02   \n",
      "storage_flr                     -0.048629  ...  1.000000e+00  -1.670208e-02   \n",
      "education_flr                   -0.069621  ... -1.670208e-02   1.000000e+00   \n",
      "hospital_flr                    -0.046050  ... -1.323499e-02  -1.894819e-02   \n",
      "recreation_flr                  -0.057787  ... -2.592244e-02  -3.711248e-02   \n",
      "publicdispaly_flr                     NaN  ...           NaN            NaN   \n",
      "community_flr                    0.005737  ... -1.002846e-02  -1.435748e-02   \n",
      "car_spaces                       0.226867  ... -4.060883e-02  -5.130821e-02   \n",
      "bike_spaces                      0.321067  ... -4.165063e-02  -5.018962e-02   \n",
      "longitude                        0.303186  ... -1.346343e-01   5.469005e-02   \n",
      "latitude                        -0.094127  ... -1.092912e-01  -8.039032e-02   \n",
      "\n",
      "                             hospital_flr  recreation_flr  publicdispaly_flr  \\\n",
      "year_completed               1.400087e-01    5.722486e-02                NaN   \n",
      "clue_block                  -4.126556e-02   -1.201000e-01                NaN   \n",
      "property_id_1               -1.827574e-01   -4.412703e-02                NaN   \n",
      "property_id_2                2.143475e-17    3.086061e-18                NaN   \n",
      "property_id_3                1.106123e-16   -5.982862e-17                NaN   \n",
      "property_id_4                0.000000e+00    0.000000e+00                NaN   \n",
      "floors_above                -7.053488e-02    1.435266e-01                NaN   \n",
      "resi_dwellings              -6.161497e-02    9.724979e-03                NaN   \n",
      "studio_dwe                  -2.183258e-02   -4.276194e-02                NaN   \n",
      "one_bdrm_dwe                -4.605004e-02   -5.778668e-02                NaN   \n",
      "two_bdrm_dwe                -4.526823e-02   -4.402198e-02                NaN   \n",
      "three_bdrm_dwe              -1.776711e-02    2.768803e-02                NaN   \n",
      "student_apartments          -1.609582e-02    9.877717e-02                NaN   \n",
      "student_beds                -1.137709e-02   -2.228351e-02                NaN   \n",
      "student_accommodation_units -1.485369e-02    4.677448e-02                NaN   \n",
      "institutional_accom_beds              NaN             NaN                NaN   \n",
      "hotel_rooms                 -1.790837e-02    4.171233e-01                NaN   \n",
      "serviced_apartments         -1.518069e-02    4.572108e-01                NaN   \n",
      "hotels_serviced_apartments  -2.072110e-02    5.218954e-01                NaN   \n",
      "hostel_beds                           NaN             NaN                NaN   \n",
      "childcare_places             2.877497e-01    2.799620e-02                NaN   \n",
      "office_flr                  -2.967023e-02    9.525017e-02                NaN   \n",
      "retail_flr                  -4.720178e-02    1.034275e-01                NaN   \n",
      "industrial_flr              -1.770066e-02   -3.466905e-02                NaN   \n",
      "storage_flr                 -1.323499e-02   -2.592244e-02                NaN   \n",
      "education_flr               -1.894819e-02   -3.711248e-02                NaN   \n",
      "hospital_flr                 1.000000e+00    2.170555e-03                NaN   \n",
      "recreation_flr               2.170555e-03    1.000000e+00                NaN   \n",
      "publicdispaly_flr                     NaN             NaN                NaN   \n",
      "community_flr               -1.137709e-02   -2.228351e-02                NaN   \n",
      "car_spaces                  -2.636434e-02    3.474012e-01                NaN   \n",
      "bike_spaces                 -3.845066e-02   -5.002754e-02                NaN   \n",
      "longitude                    2.073308e-01    5.487943e-02                NaN   \n",
      "latitude                     2.395798e-02   -7.972496e-02                NaN   \n",
      "\n",
      "                             community_flr  car_spaces  bike_spaces  \\\n",
      "year_completed                1.134344e-01    0.323475     0.383072   \n",
      "clue_block                   -4.690046e-02   -0.081124    -0.173550   \n",
      "property_id_1                -1.357491e-01   -0.297077    -0.402098   \n",
      "property_id_2                -2.194013e-01    0.135193     0.103150   \n",
      "property_id_3                 1.259009e-16    0.066158     0.033013   \n",
      "property_id_4                 0.000000e+00    0.092371     0.041979   \n",
      "floors_above                 -3.052743e-02    0.388032     0.451991   \n",
      "resi_dwellings                6.730405e-03    0.385624     0.380916   \n",
      "studio_dwe                   -1.654306e-02    0.339533     0.374386   \n",
      "one_bdrm_dwe                  5.737289e-03    0.226867     0.321067   \n",
      "two_bdrm_dwe                  2.934337e-02    0.390605     0.370160   \n",
      "three_bdrm_dwe                9.608674e-02    0.300157     0.169422   \n",
      "student_apartments           -1.219618e-02   -0.051433     0.355085   \n",
      "student_beds                 -8.620690e-03   -0.036354     0.491734   \n",
      "student_accommodation_units  -1.125499e-02   -0.047464     0.443688   \n",
      "institutional_accom_beds               NaN         NaN          NaN   \n",
      "hotel_rooms                  -1.356959e-02   -0.015901    -0.049249   \n",
      "serviced_apartments          -1.150277e-02    0.510833    -0.048511   \n",
      "hotels_serviced_apartments   -1.570086e-02    0.180242    -0.059546   \n",
      "hostel_beds                            NaN         NaN          NaN   \n",
      "childcare_places             -1.221909e-02   -0.010749    -0.033551   \n",
      "office_flr                   -2.248183e-02   -0.057745    -0.088687   \n",
      "retail_flr                   -2.616303e-02    0.061798    -0.033407   \n",
      "industrial_flr               -1.341221e-02   -0.056561    -0.056564   \n",
      "storage_flr                  -1.002846e-02   -0.040609    -0.041651   \n",
      "education_flr                -1.435748e-02   -0.051308    -0.050190   \n",
      "hospital_flr                 -1.137709e-02   -0.026364    -0.038451   \n",
      "recreation_flr               -2.228351e-02    0.347401    -0.050028   \n",
      "publicdispaly_flr                      NaN         NaN          NaN   \n",
      "community_flr                 1.000000e+00    0.082181     0.060744   \n",
      "car_spaces                    8.218107e-02    1.000000     0.528754   \n",
      "bike_spaces                   6.074419e-02    0.528754     1.000000   \n",
      "longitude                     1.342167e-03    0.130000     0.258492   \n",
      "latitude                      2.162204e-02   -0.037333    -0.007276   \n",
      "\n",
      "                             longitude  latitude  \n",
      "year_completed                0.310833 -0.192697  \n",
      "clue_block                   -0.421985  0.153260  \n",
      "property_id_1                -0.485299 -0.004186  \n",
      "property_id_2                 0.014332 -0.029623  \n",
      "property_id_3                 0.007648  0.016609  \n",
      "property_id_4                 0.026535 -0.039976  \n",
      "floors_above                  0.356148 -0.171286  \n",
      "resi_dwellings                0.296640 -0.068886  \n",
      "studio_dwe                    0.226376 -0.102976  \n",
      "one_bdrm_dwe                  0.303186 -0.094127  \n",
      "two_bdrm_dwe                  0.226550 -0.045595  \n",
      "three_bdrm_dwe                0.203481 -0.093056  \n",
      "student_apartments            0.081878 -0.005111  \n",
      "student_beds                  0.057874 -0.003613  \n",
      "student_accommodation_units   0.075559 -0.004717  \n",
      "institutional_accom_beds           NaN       NaN  \n",
      "hotel_rooms                   0.148321 -0.047681  \n",
      "serviced_apartments          -0.008017 -0.051924  \n",
      "hotels_serviced_apartments    0.120945 -0.059529  \n",
      "hostel_beds                        NaN       NaN  \n",
      "childcare_places              0.072181  0.087724  \n",
      "office_flr                    0.025691 -0.130914  \n",
      "retail_flr                    0.125826 -0.149018  \n",
      "industrial_flr               -0.194108  0.067810  \n",
      "storage_flr                  -0.134634 -0.109291  \n",
      "education_flr                 0.054690 -0.080390  \n",
      "hospital_flr                  0.207331  0.023958  \n",
      "recreation_flr                0.054879 -0.079725  \n",
      "publicdispaly_flr                  NaN       NaN  \n",
      "community_flr                 0.001342  0.021622  \n",
      "car_spaces                    0.130000 -0.037333  \n",
      "bike_spaces                   0.258492 -0.007276  \n",
      "longitude                     1.000000 -0.017785  \n",
      "latitude                     -0.017785  1.000000  \n",
      "\n",
      "[34 rows x 34 columns]\n"
     ]
    },
    {
     "data": {
      "image/png": "[encoded data removed]",
      "text/plain": [
       "<Figure size 864x432 with 1 Axes>"
      ]
     },
     "metadata": {
      "needs_background": "light"
     },
     "output_type": "display_data"
    },
    {
     "data": {
      "image/png": "[encoded data removed]",
      "text/plain": [
       "<Figure size 864x432 with 1 Axes>"
      ]
     },
     "metadata": {
      "needs_background": "light"
     },
     "output_type": "display_data"
    }
   ],
   "source": [
    "import matplotlib.pyplot as plt\n",
    "from sklearn.decomposition import PCA\n",
    "from sklearn.manifold import TSNE\n",
    "\n",
    "correlation_matrix = numerical_data.corr()\n",
    "print(correlation_matrix)\n",
    "\n",
    "pca = PCA(n_components=2)\n",
    "principal_components_pca = pca.fit_transform(scaled_data)\n",
    "pca_df = pd.DataFrame(data=principal_components_pca, columns=['PCA 1', 'PCA 2'])\n",
    "\n",
    "tsne = TSNE(n_components=2, perplexity=30, n_iter=300)\n",
    "principal_components_tsne = tsne.fit_transform(scaled_data)\n",
    "tsne_df = pd.DataFrame(data=principal_components_tsne, columns=['t-SNE 1', 't-SNE 2'])\n",
    "\n",
    "plt.figure(figsize=(12, 6))\n",
    "plt.scatter(pca_df['PCA 1'], pca_df['PCA 2'], alpha=0.5)\n",
    "plt.xlabel('PCA 1')\n",
    "plt.ylabel('PCA 2')\n",
    "plt.title('2D PCA of Dataset')\n",
    "plt.grid(True)\n",
    "plt.show()\n",
    "\n",
    "plt.figure(figsize=(12, 6))\n",
    "plt.scatter(tsne_df['t-SNE 1'], tsne_df['t-SNE 2'], alpha=0.5, color='r')\n",
    "plt.xlabel('t-SNE 1')\n",
    "plt.ylabel('t-SNE 2')\n",
    "plt.title('2D t-SNE of Dataset')\n",
    "plt.grid(True)\n",
    "plt.show()\n"
   ]
  },
  {
   "cell_type": "code",
   "execution_count": null,
   "id": "11e14c93",
   "metadata": {},
   "outputs": [],
   "source": [
    "Q5"
   ]
  },
  {
   "cell_type": "code",
   "execution_count": 6,
   "id": "111dddb5",
   "metadata": {},
   "outputs": [
    {
     "name": "stdout",
     "output_type": "stream",
     "text": [
      "Explained variance by PCA 1: 16.02%\n",
      "Explained variance by PCA 2: 9.85%\n",
      "Total explained variance by the first two principal components: 25.87%\n"
     ]
    }
   ],
   "source": [
    "explained_variance = pca.explained_variance_ratio_\n",
    "total_explained_variance = sum(explained_variance)\n",
    "\n",
    "print(f\"Explained variance by PCA 1: {explained_variance[0]*100:.2f}%\")\n",
    "print(f\"Explained variance by PCA 2: {explained_variance[1]*100:.2f}%\")\n",
    "print(f\"Total explained variance by the first two principal components: {total_explained_variance*100:.2f}%\")\n"
   ]
  },
  {
   "cell_type": "code",
   "execution_count": null,
   "id": "0d292468",
   "metadata": {},
   "outputs": [],
   "source": []
  }
 ],
 "metadata": {
  "kernelspec": {
   "display_name": "Python 3",
   "language": "python",
   "name": "python3"
  },
  "language_info": {
   "codemirror_mode": {
    "name": "ipython",
    "version": 3
   },
   "file_extension": ".py",
   "mimetype": "text/x-python",
   "name": "python",
   "nbconvert_exporter": "python",
   "pygments_lexer": "ipython3",
   "version": "3.8.8"
  }
 },
 "nbformat": 4,
 "nbformat_minor": 5
}
