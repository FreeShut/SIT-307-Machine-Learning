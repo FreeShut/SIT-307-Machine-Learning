{
 "cells": [
  {
   "cell_type": "code",
   "execution_count": null,
   "id": "0012c64e",
   "metadata": {},
   "outputs": [],
   "source": [
    "Q1"
   ]
  },
  {
   "cell_type": "code",
   "execution_count": 2,
   "id": "63e89431",
   "metadata": {},
   "outputs": [
    {
     "ename": "ModuleNotFoundError",
     "evalue": "No module named 'tensorflow'",
     "output_type": "error",
     "traceback": [
      "\u001b[1;31m---------------------------------------------------------------------------\u001b[0m",
      "\u001b[1;31mModuleNotFoundError\u001b[0m                       Traceback (most recent call last)",
      "\u001b[1;32m<ipython-input-2-8a706c0e8f81>\u001b[0m in \u001b[0;36m<module>\u001b[1;34m\u001b[0m\n\u001b[0;32m      5\u001b[0m \u001b[1;32mfrom\u001b[0m \u001b[0msklearn\u001b[0m\u001b[1;33m.\u001b[0m\u001b[0mmodel_selection\u001b[0m \u001b[1;32mimport\u001b[0m \u001b[0mtrain_test_split\u001b[0m\u001b[1;33m\u001b[0m\u001b[1;33m\u001b[0m\u001b[0m\n\u001b[0;32m      6\u001b[0m \u001b[1;32mfrom\u001b[0m \u001b[0msklearn\u001b[0m \u001b[1;32mimport\u001b[0m \u001b[0mmetrics\u001b[0m\u001b[1;33m\u001b[0m\u001b[1;33m\u001b[0m\u001b[0m\n\u001b[1;32m----> 7\u001b[1;33m \u001b[1;32mimport\u001b[0m \u001b[0mtensorflow\u001b[0m \u001b[1;32mas\u001b[0m \u001b[0mtf\u001b[0m\u001b[1;33m\u001b[0m\u001b[1;33m\u001b[0m\u001b[0m\n\u001b[0m\u001b[0;32m      8\u001b[0m \u001b[1;33m\u001b[0m\u001b[0m\n\u001b[0;32m      9\u001b[0m \u001b[1;31m# Load the dataset\u001b[0m\u001b[1;33m\u001b[0m\u001b[1;33m\u001b[0m\u001b[1;33m\u001b[0m\u001b[0m\n",
      "\u001b[1;31mModuleNotFoundError\u001b[0m: No module named 'tensorflow'"
     ]
    }
   ],
   "source": [
    "import numpy as np\n",
    "import pandas as pd\n",
    "import matplotlib.pyplot as plt\n",
    "from sklearn.model_selection import train_test_split\n",
    "from sklearn import metrics\n",
    "import tensorflow as tf\n",
    "\n",
    "data = pd.read_csv('data_10.csv')\n",
    "\n",
    "X = data.drop('malware', axis=1)\n",
    "y = data['malware']\n",
    "\n",
    "X_train, X_test, y_train, y_test = train_test_split(X, y, test_size=0.2, random_state=42)\n",
    "\n",
    "# Define the MLP model with 10 hidden layers\n",
    "def create_mlp_model(activation_function='relu'):\n",
    "    model = tf.keras.models.Sequential()\n",
    "\n",
    "    model.add(tf.keras.layers.Dense(128, input_dim=X.shape[1], activation=activation_function))\n",
    "    \n",
    "    for _ in range(10):\n",
    "        model.add(tf.keras.layers.Dense(64, activation=activation_function))\n",
    "    \n",
    "    # Output\n",
    "    model.add(tf.keras.layers.Dense(1, activation='sigmoid'))\n",
    "    \n",
    "    # Compile\n",
    "    model.compile(optimizer='adam', loss='binary_crossentropy', metrics=['accuracy'])\n",
    "    \n",
    "    return model\n",
    "\n"
   ]
  },
  {
   "cell_type": "code",
   "execution_count": null,
   "id": "27597544",
   "metadata": {},
   "outputs": [],
   "source": [
    "Q2"
   ]
  },
  {
   "cell_type": "code",
   "execution_count": null,
   "id": "fb62a9d3",
   "metadata": {},
   "outputs": [],
   "source": [
    "activation_functions = ['relu', 'sigmoid', 'tanh']\n",
    "best_accuracy = 0\n",
    "best_activation = \"\"\n",
    "\n",
    "for activation in activation_functions:\n",
    "    print(f\"Training with {activation} activation function...\")\n",
    "    mlp_model = create_mlp_model(activation_function=activation)\n",
    "    mlp_model.fit(X_train, y_train, validation_data=(X_test, y_test), epochs=20, batch_size=32, verbose=0)\n",
    "    loss, accuracy = mlp_model.evaluate(X_test, y_test, verbose=0)\n",
    "    print(f\"Test Loss with {activation}: {loss:.4f}\")\n",
    "    print(f\"Test Accuracy with {activation}: {accuracy*100:.2f}%\\n\")\n",
    "    \n",
    "    if accuracy > best_accuracy:\n",
    "        best_accuracy = accuracy\n",
    "        best_activation = activation\n",
    "\n",
    "print(f\"The best activation function is {best_activation} with an accuracy of {best_accuracy*100:.2f}%.\")"
   ]
  },
  {
   "cell_type": "code",
   "execution_count": 3,
   "id": "71ae0623",
   "metadata": {},
   "outputs": [
    {
     "name": "stdout",
     "output_type": "stream",
     "text": [
      "Training with relu activation function...\n",
      "Test Accuracy with relu: 98.61%\n",
      "\n",
      "Training with logistic activation function...\n",
      "Test Accuracy with logistic: 97.42%\n",
      "\n",
      "Training with tanh activation function...\n",
      "Test Accuracy with tanh: 98.75%\n",
      "\n",
      "The best activation function is tanh with an accuracy of 98.75%.\n"
     ]
    }
   ],
   "source": [
    "import numpy as np\n",
    "import pandas as pd\n",
    "from sklearn.model_selection import train_test_split\n",
    "from sklearn.neural_network import MLPClassifier\n",
    "from sklearn.metrics import accuracy_score\n",
    "\n",
    "data = pd.read_csv('data_10.csv')\n",
    "\n",
    "X = data.drop('malware', axis=1)\n",
    "y = data['malware']\n",
    "\n",
    "from sklearn.preprocessing import StandardScaler\n",
    "scaler = StandardScaler()\n",
    "X = scaler.fit_transform(X)\n",
    "\n",
    "X_train, X_test, y_train, y_test = train_test_split(X, y, test_size=0.2, random_state=42)\n",
    "\n",
    "activation_functions = ['relu', 'logistic', 'tanh']\n",
    "best_accuracy = 0\n",
    "best_activation = \"\"\n",
    "\n",
    "for activation in activation_functions:\n",
    "    print(f\"Training with {activation} activation function...\")\n",
    "    \n",
    "    # Define the MLP model\n",
    "    mlp = MLPClassifier(hidden_layer_sizes=(128, 64, 64, 64, 64, 64, 64, 64, 64, 64, 64), \n",
    "                        activation=activation, max_iter=200, solver='adam', random_state=42)\n",
    "    \n",
    "    # Train the model\n",
    "    mlp.fit(X_train, y_train)\n",
    "    \n",
    "    # Predict and evaluate\n",
    "    predictions = mlp.predict(X_test)\n",
    "    accuracy = accuracy_score(y_test, predictions)\n",
    "    print(f\"Test Accuracy with {activation}: {accuracy*100:.2f}%\\n\")\n",
    "    \n",
    "    if accuracy > best_accuracy:\n",
    "        best_accuracy = accuracy\n",
    "        best_activation = activation\n",
    "\n",
    "print(f\"The best activation function is {best_activation} with an accuracy of {best_accuracy*100:.2f}%.\")\n"
   ]
  },
  {
   "cell_type": "code",
   "execution_count": null,
   "id": "56bfbb1a",
   "metadata": {},
   "outputs": [],
   "source": []
  }
 ],
 "metadata": {
  "kernelspec": {
   "display_name": "Python 3",
   "language": "python",
   "name": "python3"
  },
  "language_info": {
   "codemirror_mode": {
    "name": "ipython",
    "version": 3
   },
   "file_extension": ".py",
   "mimetype": "text/x-python",
   "name": "python",
   "nbconvert_exporter": "python",
   "pygments_lexer": "ipython3",
   "version": "3.8.8"
  }
 },
 "nbformat": 4,
 "nbformat_minor": 5
}
