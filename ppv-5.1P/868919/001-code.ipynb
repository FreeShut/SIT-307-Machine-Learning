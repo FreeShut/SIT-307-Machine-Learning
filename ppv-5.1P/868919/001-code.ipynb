{
 "cells": [
  {
   "cell_type": "code",
   "execution_count": null,
   "id": "49c24f49",
   "metadata": {},
   "outputs": [],
   "source": [
    "Q1."
   ]
  },
  {
   "cell_type": "code",
   "execution_count": 1,
   "id": "59f7eb74",
   "metadata": {},
   "outputs": [
    {
     "name": "stdout",
     "output_type": "stream",
     "text": [
      "Training Data Counts:\n",
      "Flat       1673\n",
      "Gable       415\n",
      "Hip         298\n",
      "Pyramid      10\n",
      "Shed          4\n",
      "Name: roof_type, dtype: int64\n",
      "\n",
      "Test Data Counts:\n",
      "Flat       400\n",
      "Gable      115\n",
      "Hip         83\n",
      "Pyramid      2\n",
      "Name: roof_type, dtype: int64\n"
     ]
    }
   ],
   "source": [
    "import numpy as np\n",
    "import pandas as pd\n",
    "import matplotlib.pyplot as plt\n",
    "import seaborn as sns\n",
    "from sklearn.model_selection import train_test_split\n",
    "\n",
    "data = pd.read_csv('data_5.csv')\n",
    "train_data, test_data = train_test_split(data, test_size=0.2, random_state=42)\n",
    "\n",
    "train_counts = train_data['roof_type'].value_counts()\n",
    "test_counts = test_data['roof_type'].value_counts()\n",
    "\n",
    "print(\"Training Data Counts:\")\n",
    "print(train_counts)\n",
    "print(\"\\nTest Data Counts:\")\n",
    "print(test_counts)\n"
   ]
  },
  {
   "cell_type": "code",
   "execution_count": null,
   "id": "dfb01862",
   "metadata": {},
   "outputs": [],
   "source": [
    "Q2"
   ]
  },
  {
   "cell_type": "code",
   "execution_count": 8,
   "id": "486e23ec",
   "metadata": {},
   "outputs": [
    {
     "data": {
      "image/png": "[encoded data removed]",
      "text/plain": [
       "<Figure size 432x288 with 1 Axes>"
      ]
     },
     "metadata": {
      "needs_background": "light"
     },
     "output_type": "display_data"
    }
   ],
   "source": [
    "import numpy as np\n",
    "import pandas as pd\n",
    "import matplotlib.pyplot as plt\n",
    "import seaborn as sns\n",
    "from sklearn.model_selection import train_test_split\n",
    "\n",
    "data = pd.read_csv('data_5.csv')\n",
    "\n",
    "train_data, test_data = train_test_split(data, test_size=0.2, random_state=42)\n",
    "unique_property = data['property_id'].unique()\n",
    "\n",
    "test_property = unique_property[:5]\n",
    "train_property = unique_property[5:]\n",
    "\n",
    "train_data = data[data['property_id'].isin(train_property)]\n",
    "test_data = data[data['property_id'].isin(test_property)]\n",
    "\n",
    "train_counts = train_data.shape[0]\n",
    "test_counts = test_data.shape[0]\n",
    "\n",
    "labels = ['Training', 'Testing']\n",
    "q1_counts = [train_data.shape[0], test_data.shape[0]]\n",
    "l5o_counts = [train_counts, test_counts]\n",
    "\n",
    "x = np.arange(len(labels))\n",
    "width = 0.35\n",
    "\n",
    "fig, ax = plt.subplots()\n",
    "rects1 = ax.bar(x - width/2, q1_counts, width, label='Q-1 (80-20 Split)', color='b')\n",
    "rects2 = ax.bar(x + width/2, l5o_counts, width, label='Leave-5-Out', color='g')\n",
    "\n",
    "ax.set_ylabel('Number of Samples')\n",
    "ax.set_title('Comparison of Number of Samples: Q-1 vs Leave-5-Out')\n",
    "ax.set_xticks(x)\n",
    "ax.set_xticklabels(labels)\n",
    "ax.legend()\n",
    "\n",
    "fig.tight_layout()\n",
    "plt.show()\n"
   ]
  },
  {
   "cell_type": "code",
   "execution_count": 9,
   "id": "2034c7ee",
   "metadata": {},
   "outputs": [
    {
     "name": "stdout",
     "output_type": "stream",
     "text": [
      "Training Data:\n",
      "    structure_max_elevation  footprint_max_elevation  structure_min_elevation  \\\n",
      "7                      20.5                     19.5                     17.5   \n",
      "8                      23.5                     20.5                     17.5   \n",
      "9                      23.5                     23.5                     17.5   \n",
      "10                     23.5                     20.5                     17.0   \n",
      "11                     23.5                     23.5                     17.0   \n",
      "\n",
      "    property_id  footprint_extrusion  footprint_min_elevation  \\\n",
      "7        104873                  2.5                     17.5   \n",
      "8        100318                  3.0                     17.5   \n",
      "9        100322                  5.5                     17.5   \n",
      "10       104869                  3.5                     17.5   \n",
      "11       104869                  6.0                     17.5   \n",
      "\n",
      "    structure_extrusion roof_type  \n",
      "7                   2.0      Flat  \n",
      "8                   3.0      Flat  \n",
      "9                   6.0      Flat  \n",
      "10                  3.5       Hip  \n",
      "11                  6.5       Hip  \n",
      "\n",
      "Test Data:\n",
      "   structure_max_elevation  footprint_max_elevation  structure_min_elevation  \\\n",
      "0                     30.5                     30.5                     17.5   \n",
      "1                     32.5                     26.5                     18.0   \n",
      "2                     32.5                     32.5                     18.0   \n",
      "3                     20.5                     19.5                     17.0   \n",
      "4                     24.5                     23.5                     17.0   \n",
      "\n",
      "   property_id  footprint_extrusion  footprint_min_elevation  \\\n",
      "0       109953                 13.5                     17.5   \n",
      "1       105685                  9.0                     18.0   \n",
      "2       105685                  5.5                     26.5   \n",
      "3       104550                  2.0                     17.0   \n",
      "4       104870                  6.0                     17.0   \n",
      "\n",
      "   structure_extrusion roof_type  \n",
      "0                 13.0      Flat  \n",
      "1                  8.5      Flat  \n",
      "2                 14.5       Hip  \n",
      "3                  2.5      Flat  \n",
      "4                  6.5      Flat  \n"
     ]
    }
   ],
   "source": [
    "data = pd.read_csv('data_5.csv')\n",
    "\n",
    "unique_property = data['property_id'].unique()\n",
    "\n",
    "test_property = unique_property[:5]\n",
    "train_property = unique_property[5:]\n",
    "\n",
    "train_data = data[data['property_id'].isin(train_property)]\n",
    "test_data = data[data['property_id'].isin(test_property)]\n",
    "\n",
    "print(\"Training Data:\")\n",
    "print(train_data.head())\n",
    "print(\"\\nTest Data:\")\n",
    "print(test_data.head())\n"
   ]
  },
  {
   "cell_type": "code",
   "execution_count": null,
   "id": "3901fb30",
   "metadata": {},
   "outputs": [],
   "source": []
  }
 ],
 "metadata": {
  "kernelspec": {
   "display_name": "Python 3",
   "language": "python",
   "name": "python3"
  },
  "language_info": {
   "codemirror_mode": {
    "name": "ipython",
    "version": 3
   },
   "file_extension": ".py",
   "mimetype": "text/x-python",
   "name": "python",
   "nbconvert_exporter": "python",
   "pygments_lexer": "ipython3",
   "version": "3.8.8"
  }
 },
 "nbformat": 4,
 "nbformat_minor": 5
}
